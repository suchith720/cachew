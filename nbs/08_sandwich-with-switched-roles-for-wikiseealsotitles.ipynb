{
 "cells": [
  {
   "cell_type": "code",
   "execution_count": 1,
   "id": "3abc4ece-637f-4a3f-8125-613704b49380",
   "metadata": {},
   "outputs": [],
   "source": [
    "#| default_exp 08_sandwich-with-switched-roles-for-wikiseealsotitles"
   ]
  },
  {
   "cell_type": "code",
   "execution_count": 2,
   "id": "6f007b53-a487-4ec1-9d3e-bff6ae211c9f",
   "metadata": {},
   "outputs": [],
   "source": [
    "#| hide\n",
    "from nbdev.showdoc import *\n",
    "import nbdev; nbdev.nbdev_export()"
   ]
  },
  {
   "cell_type": "code",
   "execution_count": 3,
   "id": "caca4588-c253-4de5-b890-9e1bbe396ff1",
   "metadata": {},
   "outputs": [],
   "source": [
    "%reload_ext autoreload\n",
    "%autoreload 2"
   ]
  },
  {
   "cell_type": "code",
   "execution_count": 4,
   "id": "c202825c-cf24-4f3f-b217-6fbf6e4da78c",
   "metadata": {},
   "outputs": [],
   "source": [
    "#| export\n",
    "import os\n",
    "os.environ['CUDA_VISIBLE_DEVICES'] = '0,1'\n",
    "\n",
    "import torch,json, torch.multiprocessing as mp, joblib, numpy as np, scipy.sparse as sp\n",
    "\n",
    "from xcai.basics import *\n",
    "from xcai.models.sandwich import SAW002, SandwichConfig"
   ]
  },
  {
   "cell_type": "code",
   "execution_count": 5,
   "id": "06639dde-afb0-41dd-9f1c-fb07abb93644",
   "metadata": {},
   "outputs": [],
   "source": [
    "os.environ['WANDB_MODE'] = 'disabled'"
   ]
  },
  {
   "cell_type": "code",
   "execution_count": 6,
   "id": "9fc9fabd-7072-444b-b221-c72819699f53",
   "metadata": {},
   "outputs": [],
   "source": [
    "#| export\n",
    "os.environ['WANDB_PROJECT'] = 'sandwich_00-wikiseealsotitles'"
   ]
  },
  {
   "cell_type": "markdown",
   "id": "69690574-fa61-4f19-b7bd-96eb4570c99a",
   "metadata": {},
   "source": [
    "## Setup"
   ]
  },
  {
   "cell_type": "code",
   "execution_count": 7,
   "id": "f91c25e4-1cdb-4e22-9540-6615066e18e4",
   "metadata": {},
   "outputs": [],
   "source": [
    "output_dir = '/scratch/scai/phd/aiz218323/outputs/cachew/06_ngame-for-wikiseealsotitles-with-augmented-training'\n",
    "\n",
    "data_dir = '/home/scai/phd/aiz218323/scratch/datasets/benchmarks/'\n",
    "config_file = 'wikiseealsotitles'\n",
    "config_key = 'data_meta'\n",
    "\n",
    "mname = 'sentence-transformers/msmarco-distilbert-base-v4'"
   ]
  },
  {
   "cell_type": "code",
   "execution_count": 8,
   "id": "042686ba-6794-4126-91f2-059bd55e2b41",
   "metadata": {},
   "outputs": [],
   "source": [
    "pickle_dir = '/scratch/scai/phd/aiz218323/datasets/processed/'"
   ]
  },
  {
   "cell_type": "code",
   "execution_count": 9,
   "id": "f6e145af-a705-4784-872a-031f1e187ef5",
   "metadata": {},
   "outputs": [],
   "source": [
    "use_sxc_sampler = True\n",
    "\n",
    "pkl_file = f'{pickle_dir}/sandwich/wikiseealsotitles_data-meta_distilbert-base-uncased'\n",
    "pkl_file = f'{pkl_file}_sxc' if use_sxc_sampler else f'{pkl_file}_xcs'\n",
    "pkl_file = f'{pkl_file}.joblib'"
   ]
  },
  {
   "cell_type": "code",
   "execution_count": 10,
   "id": "9b1c8db6-2565-4b89-99a3-cd52b385099b",
   "metadata": {},
   "outputs": [],
   "source": [
    "os.makedirs(os.path.dirname(pkl_file), exist_ok=True)\n",
    "block = build_block(pkl_file, config_file, use_sxc_sampler, config_key, do_build=False, only_test=False, \n",
    "                    n_slbl_samples=1, main_oversample=False, n_sdata_meta_samples=1, n_slbl_meta_samples=1, meta_oversample=False,\n",
    "                    data_dir=data_dir)"
   ]
  },
  {
   "cell_type": "code",
   "execution_count": null,
   "id": "97ff167f-49b3-463d-b775-5901eaaa17a0",
   "metadata": {},
   "outputs": [],
   "source": []
  },
  {
   "cell_type": "code",
   "execution_count": 85,
   "id": "c4b5eacd-c622-4fc4-91f7-f9fe9bcbedc0",
   "metadata": {},
   "outputs": [],
   "source": [
    "#| export\n",
    "from typing import Dict, Optional\n",
    "\n",
    "from xcai.graph.operations import *\n",
    "from xcai.sdata import *"
   ]
  },
  {
   "cell_type": "code",
   "execution_count": 86,
   "id": "e0fe4449-4017-4dc0-94e9-ce935fd7a583",
   "metadata": {},
   "outputs": [],
   "source": [
    "#| export\n",
    "def fill_matrix(matrix:torch.Tensor, matrix_info:Dict, filler:torch.Tensor, filler_info:Dict, matrix_meta:Optional[torch.Tensor]=None,\n",
    "                filler_meta:Optional[torch.Tensor]=None):\n",
    "    row_idx = np.where(matrix.getnnz(axis=1) == 0)[0]\n",
    "    col_idx = np.where(filler[row_idx].getnnz(axis=0) > 0)[0]\n",
    "\n",
    "    mat = filler[:, col_idx]\n",
    "    mat_info = {}\n",
    "    for k,v in filler_info.items():\n",
    "        if isinstance(v, torch.Tensor): mat_info[k] = v[col_idx]\n",
    "        else: mat_info[k] = type(v)([v[i] for i in col_idx])\n",
    "\n",
    "    indices, indptr = [], np.zeros(matrix.shape[0]+1, dtype=np.int64)\n",
    "    for idx in row_idx:\n",
    "        p,q = mat.indptr[idx], mat.indptr[idx+1]\n",
    "        i = mat.indices[p:q]\n",
    "        indices.append(i)\n",
    "        indptr[idx+1] = len(i)\n",
    "    indices = np.hstack(indices)\n",
    "    indptr = indptr.cumsum()\n",
    "\n",
    "    mat = sp.csr_matrix((np.ones_like(indices, dtype=np.float32), indices, indptr))\n",
    "    \n",
    "    comb_matrix = sp.hstack([matrix, mat])\n",
    "    comb_info = SXCDataset.combine_info(matrix_info, mat_info)\n",
    "\n",
    "    if matrix_meta is not None:\n",
    "        filler_meta = filler_meta[col_idx]\n",
    "        comb_matrix_meta = sp.vstack([matrix_meta, filler_meta])\n",
    "        return comb_matrix, comb_info, comb_matrix_meta\n",
    "\n",
    "    return comb_matrix, comb_info\n",
    "    "
   ]
  },
  {
   "cell_type": "code",
   "execution_count": 87,
   "id": "c7eec431-5829-4ee6-a875-45bf9a66590a",
   "metadata": {},
   "outputs": [],
   "source": [
    "#| export\n",
    "def swap_lbl_and_meta(dset, meta_name:str, thresh:Optional[int]=20, batch_size:Optional[int]=1024, topk:Optional[int]=10, \n",
    "                      perform_aug:Optional[bool]=True, fill_empty:Optional[bool]=True):\n",
    "    data_lbl = Graph.threshold_on_degree(dset.data.data_lbl, thresh=thresh)\n",
    "    _, lbl_lbl = Graph.one_hop_matrix(data_lbl, batch_size=batch_size, topk=topk, do_normalize=False)\n",
    "\n",
    "    m_dset = dset.meta[f'{meta_name}_meta']\n",
    "    data_meta = sp.vstack([dset.data.data_lbl, lbl_lbl]) if perform_aug else dset.data.data_lbl\n",
    "    lbl_meta = m_dset.lbl_meta.transpose().tocsr()\n",
    "\n",
    "    data_lbl, data_info, lbl_info = m_dset.data_meta, dset.data.data_info, m_dset.meta_info\n",
    "    if perform_aug: data_lbl, data_info = sp.vstack([data_lbl, m_dset.lbl_meta]), SXCDataset.combine_info(data_info, dset.data.lbl_info)\n",
    "\n",
    "    if fill_empty: data_lbl, lbl_info, lbl_meta = fill_matrix(data_lbl, lbl_info, data_meta, dset.data.lbl_info, lbl_meta, lbl_lbl)\n",
    "    \n",
    "    meta_dset = SMetaXCDataset(prefix='main', data_meta=data_meta, lbl_meta=lbl_meta, meta_info=dset.data.lbl_info, \n",
    "                               n_data_meta_samples=m_dset.n_data_meta_samples, n_lbl_meta_samples=m_dset.n_lbl_meta_samples,\n",
    "                               meta_info_keys=m_dset.meta_info_keys, n_sdata_meta_samples=m_dset.n_sdata_meta_samples, \n",
    "                               n_slbl_meta_samples=m_dset.n_slbl_meta_samples, meta_oversample=m_dset.meta_oversample, \n",
    "                               use_meta_distribution=m_dset.use_meta_distribution)\n",
    "\n",
    "    data_lbl_filterer = None\n",
    "    if not fill_empty:\n",
    "        x_idx = np.where(data_lbl.getnnz(axis=1) == 0)[0].reshape(-1,1)\n",
    "        y_idx = np.zeros((len(x_idx),1), dtype=np.int64)\n",
    "        data_lbl[x_idx, y_idx] = 1\n",
    "        data_lbl_filterer = np.hstack([x_idx, y_idx])\n",
    "\n",
    "    data_dset = SMainXCDataset(data_info=data_info, data_lbl=data_lbl, lbl_info=lbl_info, data_lbl_filterer=data_lbl_filterer,\n",
    "                               n_lbl_samples=dset.data.n_lbl_samples, data_info_keys=dset.data.data_info_keys, \n",
    "                               lbl_info_keys=dset.data.lbl_info_keys, n_slbl_samples=dset.data.n_slbl_samples, \n",
    "                               main_oversample=dset.data.main_oversample, use_main_distribution=dset.data.use_main_distribution)\n",
    "\n",
    "    return SXCDataset(data_dset, **{'main_meta': meta_dset})\n",
    "    "
   ]
  },
  {
   "cell_type": "code",
   "execution_count": 69,
   "id": "e70635f8-ea02-4199-a4c5-a957482a4247",
   "metadata": {},
   "outputs": [],
   "source": [
    "meta_name = 'cat'"
   ]
  },
  {
   "cell_type": "code",
   "execution_count": 52,
   "id": "6e50da5b-7a92-4472-9fbf-929c0f14ce90",
   "metadata": {
    "scrolled": true
   },
   "outputs": [
    {
     "data": {
      "application/vnd.jupyter.widget-view+json": {
       "model_id": "e66a11e7420e40db9b93d95c68545ec4",
       "version_major": 2,
       "version_minor": 0
      },
      "text/plain": [
       "  0%|          | 0/306 [00:00<?, ?it/s]"
      ]
     },
     "metadata": {},
     "output_type": "display_data"
    },
    {
     "data": {
      "application/vnd.jupyter.widget-view+json": {
       "model_id": "00d754b45b2e46c6abbd9c4f92badbc6",
       "version_major": 2,
       "version_minor": 0
      },
      "text/plain": [
       "  0%|          | 0/677 [00:00<?, ?it/s]"
      ]
     },
     "metadata": {},
     "output_type": "display_data"
    }
   ],
   "source": [
    "train_dset = swap_lbl_and_meta(block.train.dset, meta_name, thresh=20, batch_size=1024, topk=10)"
   ]
  },
  {
   "cell_type": "code",
   "execution_count": 79,
   "id": "2fdae89d-b921-4da8-a106-f618341dd19e",
   "metadata": {},
   "outputs": [
    {
     "data": {
      "text/plain": [
       "<Compressed Sparse Row sparse matrix of dtype 'float32'\n",
       "\twith 4925830 stored elements and shape (1005412, 832893)>"
      ]
     },
     "execution_count": 79,
     "metadata": {},
     "output_type": "execute_result"
    }
   ],
   "source": [
    "train_dset.data.data_lbl"
   ]
  },
  {
   "cell_type": "code",
   "execution_count": 80,
   "id": "8eb2ca9a-833d-4ac9-a168-24a2e3ab0493",
   "metadata": {},
   "outputs": [
    {
     "data": {
      "text/plain": [
       "[1005412, 1005412, 1005412, 1005412]"
      ]
     },
     "execution_count": 80,
     "metadata": {},
     "output_type": "execute_result"
    }
   ],
   "source": [
    "[len(v) for v in train_dset.data.data_info.values()]"
   ]
  },
  {
   "cell_type": "code",
   "execution_count": 81,
   "id": "5acfdb65-ab81-42bd-ba05-655ed74e40f3",
   "metadata": {},
   "outputs": [
    {
     "data": {
      "text/plain": [
       "[832893, 832893, 832893, 832893]"
      ]
     },
     "execution_count": 81,
     "metadata": {},
     "output_type": "execute_result"
    }
   ],
   "source": [
    "[len(v) for v in train_dset.data.lbl_info.values()]"
   ]
  },
  {
   "cell_type": "code",
   "execution_count": 82,
   "id": "5a26a927-f79d-445f-9c2f-978186c6dfc5",
   "metadata": {},
   "outputs": [
    {
     "data": {
      "text/plain": [
       "<Compressed Sparse Row sparse matrix of dtype 'float32'\n",
       "\twith 3278885 stored elements and shape (1005412, 312330)>"
      ]
     },
     "execution_count": 82,
     "metadata": {},
     "output_type": "execute_result"
    }
   ],
   "source": [
    "train_dset.meta['main_meta'].data_meta"
   ]
  },
  {
   "cell_type": "code",
   "execution_count": 83,
   "id": "9d55b155-0ca3-458b-a554-329b6db82d7d",
   "metadata": {},
   "outputs": [
    {
     "data": {
      "text/plain": [
       "<Compressed Sparse Row sparse matrix of dtype 'float32'\n",
       "\twith 2334548 stored elements and shape (832893, 312330)>"
      ]
     },
     "execution_count": 83,
     "metadata": {},
     "output_type": "execute_result"
    }
   ],
   "source": [
    "train_dset.meta['main_meta'].lbl_meta"
   ]
  },
  {
   "cell_type": "code",
   "execution_count": 84,
   "id": "d7011aa6-1e00-4aeb-8aa0-624769de7e59",
   "metadata": {},
   "outputs": [
    {
     "data": {
      "text/plain": [
       "[312330, 312330, 312330, 312330]"
      ]
     },
     "execution_count": 84,
     "metadata": {},
     "output_type": "execute_result"
    }
   ],
   "source": [
    "[len(v) for v in train_dset.meta['main_meta'].meta_info.values()]"
   ]
  },
  {
   "cell_type": "code",
   "execution_count": null,
   "id": "50fe0c7f-1a58-4cb2-a3bd-1c0439715c40",
   "metadata": {},
   "outputs": [],
   "source": []
  },
  {
   "cell_type": "code",
   "execution_count": 70,
   "id": "46d6be67-445d-4002-ac56-e1e07e0968e4",
   "metadata": {},
   "outputs": [
    {
     "data": {
      "application/vnd.jupyter.widget-view+json": {
       "model_id": "3c5b798dce344370a3efb7b4ab0f3906",
       "version_major": 2,
       "version_minor": 0
      },
      "text/plain": [
       "  0%|          | 0/306 [00:00<?, ?it/s]"
      ]
     },
     "metadata": {},
     "output_type": "display_data"
    },
    {
     "data": {
      "application/vnd.jupyter.widget-view+json": {
       "model_id": "e2089631d7fd4d62a62a8d106fbae8de",
       "version_major": 2,
       "version_minor": 0
      },
      "text/plain": [
       "  0%|          | 0/174 [00:00<?, ?it/s]"
      ]
     },
     "metadata": {},
     "output_type": "display_data"
    }
   ],
   "source": [
    "test_dset = swap_lbl_and_meta(block.test.dset, meta_name, thresh=20, batch_size=1024, topk=10, perform_aug=False, fill_empty=False)"
   ]
  },
  {
   "cell_type": "code",
   "execution_count": 73,
   "id": "abf41325-60c0-4c0a-bbac-a78e7e2d3aa5",
   "metadata": {},
   "outputs": [
    {
     "data": {
      "text/plain": [
       "<Compressed Sparse Row sparse matrix of dtype 'float32'\n",
       "\twith 834856 stored elements and shape (177515, 656086)>"
      ]
     },
     "execution_count": 73,
     "metadata": {},
     "output_type": "execute_result"
    }
   ],
   "source": [
    "test_dset.data.data_lbl"
   ]
  },
  {
   "cell_type": "code",
   "execution_count": 74,
   "id": "23cfb3c6-9bab-4b0c-a700-943d4e2714df",
   "metadata": {},
   "outputs": [
    {
     "data": {
      "text/plain": [
       "[177515, 177515, 177515, 177515]"
      ]
     },
     "execution_count": 74,
     "metadata": {},
     "output_type": "execute_result"
    }
   ],
   "source": [
    "[len(v) for v in test_dset.data.data_info.values()]"
   ]
  },
  {
   "cell_type": "code",
   "execution_count": 75,
   "id": "f8f48cd5-899c-4f25-a0b2-6b57e0820507",
   "metadata": {},
   "outputs": [
    {
     "data": {
      "text/plain": [
       "[656086, 656086, 656086, 656086]"
      ]
     },
     "execution_count": 75,
     "metadata": {},
     "output_type": "execute_result"
    }
   ],
   "source": [
    "[len(v) for v in test_dset.data.lbl_info.values()]"
   ]
  },
  {
   "cell_type": "code",
   "execution_count": 76,
   "id": "e148d7f5-711a-4214-b630-acc295393afb",
   "metadata": {},
   "outputs": [
    {
     "data": {
      "text/plain": [
       "<Compressed Sparse Row sparse matrix of dtype 'float32'\n",
       "\twith 540833 stored elements and shape (177515, 312330)>"
      ]
     },
     "execution_count": 76,
     "metadata": {},
     "output_type": "execute_result"
    }
   ],
   "source": [
    "test_dset.meta['main_meta'].data_meta"
   ]
  },
  {
   "cell_type": "code",
   "execution_count": 77,
   "id": "173e1050-973d-42ce-9178-ff88ec29e95b",
   "metadata": {},
   "outputs": [
    {
     "data": {
      "text/plain": [
       "<Compressed Sparse Row sparse matrix of dtype 'float32'\n",
       "\twith 1126099 stored elements and shape (656086, 312330)>"
      ]
     },
     "execution_count": 77,
     "metadata": {},
     "output_type": "execute_result"
    }
   ],
   "source": [
    "test_dset.meta['main_meta'].lbl_meta"
   ]
  },
  {
   "cell_type": "code",
   "execution_count": 78,
   "id": "13e352da-d011-4fb7-bb87-efe1e0efdfb1",
   "metadata": {},
   "outputs": [
    {
     "data": {
      "text/plain": [
       "[312330, 312330, 312330, 312330]"
      ]
     },
     "execution_count": 78,
     "metadata": {},
     "output_type": "execute_result"
    }
   ],
   "source": [
    "[len(v) for v in test_dset.meta['main_meta'].meta_info.values()]"
   ]
  },
  {
   "cell_type": "markdown",
   "id": "ae34af00-cd3e-421d-9f42-6d28e6393558",
   "metadata": {},
   "source": [
    "## Driver"
   ]
  },
  {
   "cell_type": "code",
   "execution_count": null,
   "id": "57a01f3b-3243-410d-bcdd-8162086a9cca",
   "metadata": {},
   "outputs": [],
   "source": [
    "#| export\n",
    "if __name__ == '__main__':\n",
    "    output_dir = '/scratch/scai/phd/aiz218323/outputs/cachew/08_sandwich-with-switched-roles-for-wikiseealsotitles'\n",
    "\n",
    "    data_dir = '/home/scai/phd/aiz218323/scratch/datasets/benchmarks/'\n",
    "    config_file = 'wikiseealsotitles'\n",
    "    config_key = 'data_meta'\n",
    "\n",
    "    meta_name = 'cat'\n",
    "    mname = 'sentence-transformers/msmarco-distilbert-base-v4'\n",
    "\n",
    "    input_args = parse_args()\n",
    "\n",
    "    pkl_file = f'{input_args.pickle_dir}/sandwich/wikiseealsotitles_data-meta_distilbert-base-uncased'\n",
    "    pkl_file = f'{pkl_file}_sxc' if input_args.use_sxc_sampler else f'{pkl_file}_xcs'\n",
    "    if input_args.only_test: pkl_file = f'{pkl_file}_only-test'\n",
    "    pkl_file = f'{pkl_file}.joblib'\n",
    "\n",
    "    do_inference = input_args.do_train_inference or input_args.do_test_inference or input_args.save_train_prediction or input_args.save_test_prediction or input_args.save_representation\n",
    "\n",
    "    os.makedirs(os.path.dirname(pkl_file), exist_ok=True)\n",
    "    block = build_block(pkl_file, config_file, input_args.use_sxc_sampler, config_key, do_build=input_args.build_block, only_test=input_args.only_test, \n",
    "                        n_slbl_samples=1, main_oversample=False, n_sdata_meta_samples=1, n_slbl_meta_samples=1, meta_oversample=False,\n",
    "                        data_dir=data_dir)\n",
    "\n",
    "    args = XCLearningArguments(\n",
    "        output_dir=output_dir,\n",
    "        logging_first_step=True,\n",
    "        per_device_train_batch_size=512,\n",
    "        per_device_eval_batch_size=512,\n",
    "        representation_num_beams=200,\n",
    "        representation_accumulation_steps=10,\n",
    "        save_strategy=\"steps\",\n",
    "        eval_strategy=\"steps\",\n",
    "        eval_steps=5000,\n",
    "        save_steps=5000,\n",
    "        save_total_limit=5,\n",
    "        num_train_epochs=300,\n",
    "        predict_with_representation=True,\n",
    "        adam_epsilon=1e-6,\n",
    "        warmup_steps=100,\n",
    "        weight_decay=0.01,\n",
    "        learning_rate=2e-4,\n",
    "        representation_search_type='BRUTEFORCE',\n",
    "    \n",
    "        output_representation_attribute='data_enriched_repr',\n",
    "        label_representation_attribute='data_enriced_repr',\n",
    "        representation_attribute='data_enriched_repr',\n",
    "        clustering_representation_attribute='data_enriched_repr',\n",
    "        metadata_representation_attribute='data_repr',\n",
    "        data_augmentation_attribute='data_repr',\n",
    "\n",
    "        group_by_cluster=True,\n",
    "        num_clustering_warmup_epochs=10,\n",
    "        num_cluster_update_epochs=5,\n",
    "        num_cluster_size_update_epochs=25,\n",
    "        use_data_metadata_for_clustering=True,\n",
    "        clustering_type='EXPO',\n",
    "        minimum_cluster_size=2,\n",
    "        maximum_cluster_size=1600,\n",
    "\n",
    "        metric_for_best_model='P@1',\n",
    "        load_best_model_at_end=True,\n",
    "        target_indices_key='plbl2data_idx',\n",
    "        target_pointer_key='plbl2data_data2ptr',\n",
    "    \n",
    "        use_distributional_representation=False,\n",
    "        use_encoder_parallel=True,\n",
    "        max_grad_norm=None,\n",
    "        bf16 = True,\n",
    "    \n",
    "        label_names=[f'{meta_name}2data_input_ids', f'{meta_name}2data_attention_mask', f'{meta_name}2data_idx', \n",
    "                     f'{meta_name}2data_data2ptr', f'p{meta_name}2data_idx', f'p{meta_name}2data_data2ptr',\n",
    "                     f'{meta_name}2lbl_input_ids', f'{meta_name}2lbl_attention_mask', f'{meta_name}2lbl_idx', \n",
    "                     f'{meta_name}2lbl_lbl2ptr', f'p{meta_name}2lbl_idx', f'p{meta_name}2lbl_lbl2ptr'],\n",
    "\n",
    "        data_aug_prefix=meta_name,\n",
    "        use_label_metadata=True,\n",
    "                     \n",
    "        prune_metadata=False,\n",
    "        num_metadata_prune_warmup_epochs=10,\n",
    "        num_metadata_prune_epochs=5,\n",
    "        metadata_prune_batch_size=2048,\n",
    "        prune_metadata_names=[f'{meta_name}_meta'],\n",
    "        use_data_metadata_for_pruning=True,\n",
    "    \n",
    "        predict_with_augmentation=False,\n",
    "        use_augmentation_index_representation=True,\n",
    "\n",
    "        data_aug_meta_name=meta_name,\n",
    "        augmentation_num_beams=None,\n",
    "        \n",
    "        data_meta_batch_size=2048,\n",
    "        augment_metadata=False,\n",
    "        num_metadata_augment_warmup_epochs=10,\n",
    "        num_metadata_augment_epochs=5,\n",
    "    \n",
    "        use_cpu_for_searching=True,\n",
    "        use_cpu_for_clustering=True,\n",
    "    )\n",
    "\n",
    "    bsz = max(args.per_device_train_batch_size, args.per_device_eval_batch_size)*torch.cuda.device_count()\n",
    "    \n",
    "    config = SandwichConfig(\n",
    "        data_aug_meta_prefix='cat2data', \n",
    "        lbl2data_aug_meta_prefix='cat2lbl',\n",
    "    \n",
    "        data_enrich=True,\n",
    "        lbl2data_enrich=True,\n",
    "    \n",
    "        batch_size=bsz, \n",
    "        num_batch_labels=5000, \n",
    "        margin=0.3,\n",
    "        num_negatives=10,\n",
    "        tau=0.1,\n",
    "        apply_softmax=True,\n",
    "    \n",
    "        use_calib_loss=True,\n",
    "        calib_loss_weight=0.1,\n",
    "        calib_margin=0.05,\n",
    "        calib_num_negatives=10,\n",
    "        calib_tau=0.1,\n",
    "        calib_apply_softmax=False,\n",
    "    \n",
    "        use_query_loss=True,\n",
    "    \n",
    "        use_meta_loss=True,\n",
    "        meta_loss_weight=1.0,\n",
    "        \n",
    "        use_encoder_parallel=True\n",
    "    )\n",
    "    \n",
    "    def model_fn(mname):\n",
    "        model = SAW002.from_pretrained(mname, config=config)\n",
    "        return model\n",
    "    \n",
    "    def init_fn(model):\n",
    "        model.init_heads_to_identity()\n",
    "        model.init_meta_distilbert()\n",
    "        model.init_combiner_to_last_layer()\n",
    "\n",
    "    metric = PrecReclMrr(block.n_lbl, block.test.data_lbl_filterer, prop=block.train.dset.data.data_lbl,\n",
    "                         pk=10, rk=200, rep_pk=[1, 3, 5, 10], rep_rk=[10, 100, 200], mk=[5, 10, 20])\n",
    "    \n",
    "    model = load_model(args.output_dir, model_fn, {\"mname\": mname}, init_fn, do_inference=do_inference, \n",
    "                       use_pretrained=input_args.use_pretrained)\n",
    "\n",
    "    train_dset = swap_lbl_and_meta(block.train.dset, meta_name, thresh=20, batch_size=1024, topk=10)\n",
    "    test_dset = swap_lbl_and_meta(block.test.dset, meta_name, thresh=20, batch_size=1024, topk=10, perform_aug=False, fill_empty=False)\n",
    "    \n",
    "    learn = XCLearner(\n",
    "        model=model,\n",
    "        args=args,\n",
    "        train_dataset=train_dset,\n",
    "        eval_dataset=test_dset,\n",
    "        data_collator=block.collator,\n",
    "        compute_metrics=metric,\n",
    "    )\n",
    "    \n",
    "    main(learn, input_args, n_lbl=block.n_lbl)\n",
    "    "
   ]
  },
  {
   "cell_type": "code",
   "execution_count": null,
   "id": "de44ac6d-4e5e-4b4f-a974-5d5814c34145",
   "metadata": {},
   "outputs": [],
   "source": []
  },
  {
   "cell_type": "code",
   "execution_count": null,
   "id": "fadcfb81-dd76-45f2-bade-2343c02ad123",
   "metadata": {},
   "outputs": [],
   "source": []
  }
 ],
 "metadata": {
  "kernelspec": {
   "display_name": "Python 3 (ipykernel)",
   "language": "python",
   "name": "python3"
  },
  "language_info": {
   "codemirror_mode": {
    "name": "ipython",
    "version": 3
   },
   "file_extension": ".py",
   "mimetype": "text/x-python",
   "name": "python",
   "nbconvert_exporter": "python",
   "pygments_lexer": "ipython3",
   "version": "3.10.16"
  }
 },
 "nbformat": 4,
 "nbformat_minor": 5
}
