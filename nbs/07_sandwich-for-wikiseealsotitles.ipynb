{
 "cells": [
  {
   "cell_type": "code",
   "execution_count": 1,
   "id": "3abc4ece-637f-4a3f-8125-613704b49380",
   "metadata": {},
   "outputs": [],
   "source": [
    "#| default_exp 07_sandwich-for-wikiseealsotitles"
   ]
  },
  {
   "cell_type": "code",
   "execution_count": 2,
   "id": "6f007b53-a487-4ec1-9d3e-bff6ae211c9f",
   "metadata": {},
   "outputs": [],
   "source": [
    "#| hide\n",
    "from nbdev.showdoc import *\n",
    "import nbdev; nbdev.nbdev_export()"
   ]
  },
  {
   "cell_type": "code",
   "execution_count": 3,
   "id": "caca4588-c253-4de5-b890-9e1bbe396ff1",
   "metadata": {},
   "outputs": [],
   "source": [
    "%reload_ext autoreload\n",
    "%autoreload 2"
   ]
  },
  {
   "cell_type": "code",
   "execution_count": 5,
   "id": "c202825c-cf24-4f3f-b217-6fbf6e4da78c",
   "metadata": {},
   "outputs": [],
   "source": [
    "#| export\n",
    "import os\n",
    "os.environ['CUDA_VISIBLE_DEVICES'] = '0,1'\n",
    "\n",
    "import torch,json, torch.multiprocessing as mp, joblib, numpy as np, scipy.sparse as sp\n",
    "\n",
    "from xcai.basics import *\n",
    "from xcai.models.sandwich import SAW001"
   ]
  },
  {
   "cell_type": "code",
   "execution_count": 6,
   "id": "06639dde-afb0-41dd-9f1c-fb07abb93644",
   "metadata": {},
   "outputs": [],
   "source": [
    "os.environ['WANDB_MODE'] = 'disabled'"
   ]
  },
  {
   "cell_type": "code",
   "execution_count": 7,
   "id": "9fc9fabd-7072-444b-b221-c72819699f53",
   "metadata": {},
   "outputs": [],
   "source": [
    "#| export\n",
    "os.environ['WANDB_PROJECT'] = 'sandwich_00-wikiseealsotitles'"
   ]
  },
  {
   "cell_type": "markdown",
   "id": "ae34af00-cd3e-421d-9f42-6d28e6393558",
   "metadata": {},
   "source": [
    "## Driver"
   ]
  },
  {
   "cell_type": "code",
   "execution_count": null,
   "id": "57a01f3b-3243-410d-bcdd-8162086a9cca",
   "metadata": {},
   "outputs": [],
   "source": [
    "#| export\n",
    "if __name__ == '__main__':\n",
    "    output_dir = '/scratch/scai/phd/aiz218323/outputs/cachew/06_ngame-for-wikiseealsotitles-with-augmented-training'\n",
    "\n",
    "    data_dir = '/home/scai/phd/aiz218323/scratch/datasets/benchmarks/'\n",
    "    config_file = 'wikiseealsotitles'\n",
    "    config_key = 'data_meta'\n",
    "    \n",
    "    mname = 'sentence-transformers/msmarco-distilbert-base-v4'\n",
    "\n",
    "    input_args = parse_args()\n",
    "\n",
    "    pkl_file = f'{input_args.pickle_dir}/sandwich/wikiseealsotitles_data-meta_distilbert-base-uncased'\n",
    "    pkl_file = f'{pkl_file}_sxc' if input_args.use_sxc_sampler else f'{pkl_file}_xcs'\n",
    "    if input_args.only_test: pkl_file = f'{pkl_file}_only-test'\n",
    "    pkl_file = f'{pkl_file}.joblib'\n",
    "\n",
    "    do_inference = input_args.do_train_inference or input_args.do_test_inference or input_args.save_train_prediction or input_args.save_test_prediction or input_args.save_representation\n",
    "\n",
    "    os.makedirs(os.path.dirname(pkl_file), exist_ok=True)\n",
    "    block = build_block(pkl_file, config_file, input_args.use_sxc_sampler, config_key, do_build=input_args.build_block, only_test=input_args.only_test, data_dir=data_dir)\n",
    "\n",
    "    args = XCLearningArguments(\n",
    "        output_dir=output_dir,\n",
    "        logging_first_step=True,\n",
    "        per_device_train_batch_size=1024,\n",
    "        per_device_eval_batch_size=1024,\n",
    "        representation_num_beams=200,\n",
    "        representation_accumulation_steps=10,\n",
    "        save_strategy=\"steps\",\n",
    "        evaluation_strategy=\"steps\",\n",
    "        eval_steps=5000,\n",
    "        save_steps=5000,\n",
    "        save_total_limit=5,\n",
    "        num_train_epochs=300,\n",
    "        predict_with_representation=True,\n",
    "        representation_search_type='BRUTEFORCE',\n",
    "        adam_epsilon=1e-6,\n",
    "        warmup_steps=100,\n",
    "        weight_decay=0.01,\n",
    "        learning_rate=2e-4,\n",
    "    \n",
    "        group_by_cluster=True,\n",
    "        num_clustering_warmup_epochs=10,\n",
    "        num_cluster_update_epochs=5,\n",
    "        num_cluster_size_update_epochs=25,\n",
    "        clustering_type='EXPO',\n",
    "        minimum_cluster_size=2,\n",
    "        maximum_cluster_size=1600,\n",
    "    \n",
    "        metric_for_best_model='P@1',\n",
    "        load_best_model_at_end=True,\n",
    "        target_indices_key='plbl2data_idx',\n",
    "        target_pointer_key='plbl2data_data2ptr',\n",
    "    \n",
    "        use_encoder_parallel=True,\n",
    "        max_grad_norm=None,\n",
    "        fp16=True,\n",
    "    )\n",
    "\n",
    "    bsz = max(args.per_device_train_batch_size, args.per_device_eval_batch_size)*torch.cuda.device_count()\n",
    "    \n",
    "    config = SandwichConfig(\n",
    "        data_aug_meta_prefix='cat2data', \n",
    "        lbl2data_aug_meta_prefix='cat2lbl',\n",
    "    \n",
    "        data_enrich=True,\n",
    "        lbl2data_enrich=True,\n",
    "    \n",
    "        batch_size=bsz, \n",
    "        num_batch_labels=5000, \n",
    "        margin=0.3,\n",
    "        num_negatives=5,\n",
    "        tau=0.1,\n",
    "        apply_softmax=True,\n",
    "    \n",
    "        use_calib_loss=True,\n",
    "        calib_loss_weight=0.1,\n",
    "        calib_margin=0.05,\n",
    "        calib_num_negatives=10,\n",
    "        calib_tau=0.1,\n",
    "        calib_apply_softmax=False,\n",
    "    \n",
    "        use_query_loss=True,\n",
    "    \n",
    "        use_meta_loss=False,\n",
    "        meta_loss_weight=0.1,\n",
    "        \n",
    "        use_encoder_parallel=False\n",
    "    )\n",
    "    \n",
    "    def model_fn(mname):\n",
    "        model = SAW001.from_pretrained(mname, config=config)\n",
    "        return model\n",
    "    \n",
    "    def init_fn(model):\n",
    "        model.init_heads_to_identity()\n",
    "        model.init_meta_distilbert()\n",
    "        model.init_combiner_to_last_layer()\n",
    "\n",
    "    metric = PrecReclMrr(block.n_lbl, block.test.data_lbl_filterer, prop=block.train.dset.data.data_lbl,\n",
    "                         pk=10, rk=200, rep_pk=[1, 3, 5, 10], rep_rk=[10, 100, 200], mk=[5, 10, 20])\n",
    "    \n",
    "    model = load_model(args.output_dir, model_fn, {\"mname\": mname}, init_fn, do_inference=do_inference, \n",
    "                       use_pretrained=input_args.use_pretrained)\n",
    "    \n",
    "    learn = XCLearner(\n",
    "        model=model,\n",
    "        args=args,\n",
    "        train_dataset=block.train.dset,\n",
    "        eval_dataset=block.test.dset,\n",
    "        data_collator=block.collator,\n",
    "        compute_metrics=metric,\n",
    "    )\n",
    "    \n",
    "    main(learn, input_args, n_lbl=block.n_lbl)\n",
    "    "
   ]
  },
  {
   "cell_type": "code",
   "execution_count": null,
   "id": "de44ac6d-4e5e-4b4f-a974-5d5814c34145",
   "metadata": {},
   "outputs": [],
   "source": []
  },
  {
   "cell_type": "code",
   "execution_count": null,
   "id": "fadcfb81-dd76-45f2-bade-2343c02ad123",
   "metadata": {},
   "outputs": [],
   "source": []
  }
 ],
 "metadata": {
  "kernelspec": {
   "display_name": "Python 3 (ipykernel)",
   "language": "python",
   "name": "python3"
  },
  "language_info": {
   "codemirror_mode": {
    "name": "ipython",
    "version": 3
   },
   "file_extension": ".py",
   "mimetype": "text/x-python",
   "name": "python",
   "nbconvert_exporter": "python",
   "pygments_lexer": "ipython3",
   "version": "3.10.16"
  }
 },
 "nbformat": 4,
 "nbformat_minor": 5
}
