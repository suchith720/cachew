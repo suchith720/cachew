{
 "cells": [
  {
   "cell_type": "code",
   "execution_count": 7,
   "metadata": {},
   "outputs": [],
   "source": [
    "#| default_exp 01_cachew-for-wikiseealsotitles-with-meta-loss"
   ]
  },
  {
   "cell_type": "code",
   "execution_count": 2,
   "metadata": {},
   "outputs": [],
   "source": [
    "#| hide\n",
    "from nbdev.showdoc import *\n",
    "import nbdev; nbdev.nbdev_export()"
   ]
  },
  {
   "cell_type": "code",
   "execution_count": 3,
   "metadata": {},
   "outputs": [],
   "source": [
    "%reload_ext autoreload\n",
    "%autoreload 2"
   ]
  },
  {
   "cell_type": "code",
   "execution_count": 4,
   "metadata": {},
   "outputs": [
    {
     "name": "stderr",
     "output_type": "stream",
     "text": [
      "/home/scai/phd/aiz218323/scratch/anaconda3/envs/mogic/lib/python3.10/site-packages/tqdm/auto.py:21: TqdmWarning: IProgress not found. Please update jupyter and ipywidgets. See https://ipywidgets.readthedocs.io/en/stable/user_install.html\n",
      "  from .autonotebook import tqdm as notebook_tqdm\n"
     ]
    }
   ],
   "source": [
    "#| export\n",
    "import os,torch,json, torch.multiprocessing as mp, joblib, numpy as np, scipy.sparse as sp\n",
    "\n",
    "from xcai.main import *\n",
    "from xcai.basics import *\n",
    "\n",
    "from xcai.models.cachew import CAW002, CachewConfig"
   ]
  },
  {
   "cell_type": "code",
   "execution_count": 5,
   "metadata": {},
   "outputs": [],
   "source": [
    "os.environ['WANDB_MODE'] = 'disabled'"
   ]
  },
  {
   "cell_type": "code",
   "execution_count": 8,
   "metadata": {},
   "outputs": [],
   "source": [
    "#| export\n",
    "os.environ['CUDA_VISIBLE_DEVICES'] = '0,1'\n",
    "os.environ['WANDB_PROJECT'] = 'cachew_00-wikiseealsotitles'"
   ]
  },
  {
   "cell_type": "markdown",
   "metadata": {
    "jp-MarkdownHeadingCollapsed": true
   },
   "source": [
    "## Driver"
   ]
  },
  {
   "cell_type": "code",
   "execution_count": null,
   "metadata": {},
   "outputs": [],
   "source": [
    "#| export\n",
    "if __name__ == '__main__':\n",
    "    output_dir = '/scratch/scai/phd/aiz218323/outputs/cachew/01_cachew-for-wikiseealsotitles-with-meta-loss'\n",
    "\n",
    "    data_dir = '/home/scai/phd/aiz218323/scratch/datasets/benchmarks/'\n",
    "    config_file = 'wikiseealsotitles'\n",
    "    config_key = 'data_meta'\n",
    "    \n",
    "    meta_embed_init_file = '/data/OGB_Weights/LF-WikiSeeAlsoTitles-320K/emb_weights.npy'\n",
    "    \n",
    "    meta_name = 'cat'\n",
    "\n",
    "    input_args = parse_args()\n",
    "\n",
    "    pkl_file = f'{input_args.pickle_dir}/cachew/wikiseealsotitles_data-meta_distilbert-base-uncased'\n",
    "    pkl_file = f'{pkl_file}_sxc' if input_args.use_sxc_sampler else f'{pkl_file}_xcs'\n",
    "    if input_args.only_test: pkl_file = f'{pkl_file}_only-test'\n",
    "    pkl_file = f'{pkl_file}.joblib'\n",
    "\n",
    "    do_inference = input_args.do_train_inference or input_args.do_test_inference or input_args.save_train_prediction or input_args.save_test_prediction or input_args.save_representation\n",
    "\n",
    "    os.makedirs(os.path.dirname(pkl_file), exist_ok=True)\n",
    "    block = build_block(pkl_file, config_file, input_args.use_sxc_sampler, config_key, do_build=input_args.build_block, only_test=input_args.only_test, \n",
    "                        n_slbl_samples=4, main_oversample=False, n_sdata_meta_samples=5, meta_oversample=False, train_meta_topk=5, test_meta_topk=3, \n",
    "                        data_dir=data_dir)\n",
    "    block.test.dset.meta = {}\n",
    "\n",
    "    args = XCLearningArguments(\n",
    "        output_dir=output_dir,\n",
    "        logging_first_step=True,\n",
    "        per_device_train_batch_size=512,\n",
    "        per_device_eval_batch_size=512,\n",
    "        representation_num_beams=200,\n",
    "        representation_accumulation_steps=10,\n",
    "        save_strategy=\"steps\",\n",
    "        eval_strategy=\"steps\",\n",
    "        eval_steps=5000,\n",
    "        save_steps=5000,\n",
    "        save_total_limit=5,\n",
    "        num_train_epochs=300,\n",
    "        predict_with_representation=True,\n",
    "        adam_epsilon=1e-6,\n",
    "        warmup_steps=100,\n",
    "        weight_decay=0.01,\n",
    "        learning_rate=2e-4,\n",
    "        representation_search_type='BRUTEFORCE',\n",
    "    \n",
    "        output_representation_attribute='data_enriched_repr',\n",
    "        label_representation_attribute='data_repr',\n",
    "        metadata_representation_attribute='data_repr',\n",
    "        data_augmentation_attribute='data_repr',\n",
    "        representation_attribute='data_enriched_repr',\n",
    "        clustering_representation_attribute='data_enriched_repr',\n",
    "    \n",
    "        group_by_cluster=True,\n",
    "        num_clustering_warmup_epochs=10,\n",
    "        num_cluster_update_epochs=5,\n",
    "        num_cluster_size_update_epochs=25,\n",
    "        use_data_metadata_for_clustering=True,\n",
    "        clustering_type='EXPO',\n",
    "        minimum_cluster_size=2,\n",
    "        maximum_cluster_size=1600,\n",
    "\n",
    "        metric_for_best_model='P@1',\n",
    "        load_best_model_at_end=True,\n",
    "        target_indices_key='plbl2data_idx',\n",
    "        target_pointer_key='plbl2data_data2ptr',\n",
    "    \n",
    "        use_distributional_representation=False,\n",
    "        use_encoder_parallel=True,\n",
    "        max_grad_norm=None,\n",
    "        fp16=True,\n",
    "    \n",
    "        label_names=[f'{meta_name}2data_idx', f'{meta_name}2data_data2ptr'],\n",
    "                     \n",
    "        prune_metadata=False,\n",
    "        num_metadata_prune_warmup_epochs=10,\n",
    "        num_metadata_prune_epochs=5,\n",
    "        metadata_prune_batch_size=2048,\n",
    "        prune_metadata_names=[f'{meta_name}_meta'],\n",
    "        use_data_metadata_for_pruning=True,\n",
    "    \n",
    "        predict_with_augmentation=False,\n",
    "        use_augmentation_index_representation=True,\n",
    "    \n",
    "        data_aug_meta_name=meta_name,\n",
    "        augmentation_num_beams=None,\n",
    "        data_aug_prefix=meta_name,\n",
    "        use_label_metadata=False,\n",
    "    \n",
    "        data_meta_batch_size=2048,\n",
    "        augment_metadata=False,\n",
    "        num_metadata_augment_warmup_epochs=10,\n",
    "        num_metadata_augment_epochs=5,\n",
    "    \n",
    "        use_cpu_for_searching=True,\n",
    "        use_cpu_for_clustering=True,\n",
    "    )\n",
    "\n",
    "    config = CachewConfig(\n",
    "        top_k_metadata = 5,\n",
    "        num_metadata=block.train.dset.meta['cat_meta'].n_meta,\n",
    "    \n",
    "        data_aug_meta_prefix='cat2data', \n",
    "        lbl2data_aug_meta_prefix=None,\n",
    "\n",
    "        data_enrich=True,\n",
    "        lbl2data_enrich=False,\n",
    "    \n",
    "        margin=0.3,\n",
    "        num_negatives=10,\n",
    "        tau=0.1,\n",
    "        apply_softmax=True,\n",
    "    \n",
    "        calib_margin=0.3,\n",
    "        calib_num_negatives=10,\n",
    "        calib_tau=0.1,\n",
    "        calib_apply_softmax=False,\n",
    "        calib_loss_weight=0.1,\n",
    "        use_calib_loss=True,\n",
    "\n",
    "        meta_loss_weight=0.1,\n",
    "        use_meta_loss=True,\n",
    "    \n",
    "        use_query_loss=True, \n",
    "        use_encoder_parallel=True\n",
    "    )\n",
    "    \n",
    "    model = CAW002.from_pretrained('sentence-transformers/msmarco-distilbert-base-v4', config=config)\n",
    "    model.init_combiner_to_last_layer()\n",
    "    \n",
    "    meta_embeddings = torch.tensor(np.load(meta_embed_init_file), dtype=torch.float32)\n",
    "    model.set_memory_embeddings(meta_embeddings)\n",
    "\n",
    "    metric = PrecReclMrr(block.n_lbl, block.test.data_lbl_filterer, prop=block.train.dset.data.data_lbl,\n",
    "                         pk=10, rk=200, rep_pk=[1, 3, 5, 10], rep_rk=[10, 100, 200], mk=[5, 10, 20])\n",
    "\n",
    "    learn = XCLearner(\n",
    "        model=model,\n",
    "        args=args,\n",
    "        train_dataset=block.train.dset,\n",
    "        eval_dataset=block.test.dset,\n",
    "        data_collator=block.collator,\n",
    "        compute_metrics=metric,\n",
    "    )\n",
    "\n",
    "    if do_inference: os.environ['WANDB_MODE'] = 'disabled'\n",
    "    \n",
    "    main(learn, input_args, n_lbl=block.n_lbl)\n",
    "    "
   ]
  },
  {
   "cell_type": "markdown",
   "metadata": {},
   "source": [
    "## Analysis"
   ]
  },
  {
   "cell_type": "code",
   "execution_count": 40,
   "metadata": {},
   "outputs": [],
   "source": [
    "import scipy.sparse as sp\n",
    "\n",
    "from xcai.analysis import *\n",
    "from xcai.main import *\n",
    "from xclib.utils.sparse import retain_topk"
   ]
  },
  {
   "cell_type": "code",
   "execution_count": 61,
   "metadata": {},
   "outputs": [],
   "source": [
    "from xcai.data import MetaXCDataset"
   ]
  },
  {
   "cell_type": "code",
   "execution_count": 62,
   "metadata": {},
   "outputs": [],
   "source": [
    "def get_pred_dset(pred, block):\n",
    "    data = MainXCDataset(block.test.dset.data.data_info, pred, block.test.dset.data.lbl_info, \n",
    "                         block.test.dset.data.data_lbl_filterer)\n",
    "    return XCDataset(data, **{k: MetaXCDataset._initialize(v) for k,v in block.test.dset.meta.items()})\n",
    "    "
   ]
  },
  {
   "cell_type": "code",
   "execution_count": null,
   "metadata": {},
   "outputs": [],
   "source": []
  },
  {
   "cell_type": "code",
   "execution_count": 21,
   "metadata": {},
   "outputs": [],
   "source": [
    "data_dir = '/home/scai/phd/aiz218323/scratch/datasets/benchmarks/'\n",
    "config_file = 'wikiseealsotitles'\n",
    "config_key = 'data_meta'\n",
    "\n",
    "pkl_dir = '/home/scai/phd/aiz218323/scratch/datasets/processed/'\n",
    "pkl_file = f'{pkl_dir}/cachew/wikiseealsotitles_data-meta_distilbert-base-uncased_sxc.joblib'\n",
    "\n",
    "block = build_block(pkl_file, config_file, True, config_key, n_slbl_samples=4, main_oversample=False, n_sdata_meta_samples=5, \n",
    "                    meta_oversample=False, train_meta_topk=5, test_meta_topk=3, data_dir=data_dir)"
   ]
  },
  {
   "cell_type": "code",
   "execution_count": 63,
   "metadata": {},
   "outputs": [],
   "source": [
    "data_dir = '/home/scai/phd/aiz218323/scratch/outputs/cachew/'"
   ]
  },
  {
   "cell_type": "code",
   "execution_count": 65,
   "metadata": {},
   "outputs": [],
   "source": [
    "pred_file_1 = f'{data_dir}/01_cachew-for-wikiseealsotitles-with-meta-loss-005/predictions/test_predictions.npz'\n",
    "pred_lbl_1 = sp.load_npz(pred_file_1)\n",
    "pred_block_1 = get_pred_dset(retain_topk(pred_lbl_1, k=10), block)\n",
    "\n",
    "pred_file_2 = f'{data_dir}/04_oak-for-wikiseealsotitles-001/predictions/test_predictions.npz'\n",
    "pred_lbl_2 = sp.load_npz(pred_file_2)\n",
    "pred_block_2 = get_pred_dset(retain_topk(pred_lbl_2, k=10), block)"
   ]
  },
  {
   "cell_type": "code",
   "execution_count": null,
   "metadata": {},
   "outputs": [],
   "source": []
  },
  {
   "cell_type": "code",
   "execution_count": 26,
   "metadata": {},
   "outputs": [
    {
     "name": "stderr",
     "output_type": "stream",
     "text": [
      "/scratch/scai/phd/aiz218323/anaconda3/envs/mogic/lib/python3.10/site-packages/scipy/sparse/_index.py:210: SparseEfficiencyWarning: Changing the sparsity structure of a csr_matrix is expensive. lil and dok are more efficient.\n",
      "  self._set_arrayXarray(i, j, x)\n"
     ]
    }
   ],
   "source": [
    "metric_1 = pointwise_eval(pred_lbl_1, block.test.dset.data.data_lbl, block.test.dset.data.data_lbl_filterer, \n",
    "                          topk=1, metric='P')"
   ]
  },
  {
   "cell_type": "code",
   "execution_count": 27,
   "metadata": {},
   "outputs": [],
   "source": [
    "metric_2 = pointwise_eval(pred_lbl_2, block.test.dset.data.data_lbl, block.test.dset.data.data_lbl_filterer, \n",
    "                          topk=200, metric='R')"
   ]
  },
  {
   "cell_type": "code",
   "execution_count": 67,
   "metadata": {},
   "outputs": [],
   "source": [
    "score = np.ravel(metric_1.sum(axis=1) - metric_2.sum(axis=1))\n",
    "idxs = np.argsort(score)"
   ]
  },
  {
   "cell_type": "code",
   "execution_count": 70,
   "metadata": {},
   "outputs": [],
   "source": [
    "gt_dset = XCDataset._initialize(block.test.dset)"
   ]
  },
  {
   "cell_type": "code",
   "execution_count": 71,
   "metadata": {},
   "outputs": [
    {
     "name": "stdout",
     "output_type": "stream",
     "text": [
      "\u001b[5m\u001b[7m\u001b[33mCachew data_input_text\u001b[0m \u001b[33m: List of peaks by prominence\u001b[0m\n",
      "\u001b[5m\u001b[7m\u001b[33mGT data_input_text\u001b[0m \u001b[33m: List of peaks by prominence\u001b[0m\n",
      "\u001b[5m\u001b[7m\u001b[96mCachew lbl2data_input_text\u001b[0m \u001b[96m: ['Highest unclimbed mountain', 'List of peaks by prominence', 'Lists of mountains', 'Mountain', 'List of mountain lists', 'Ultra-prominent summit', 'List of Ultras of South America', 'Lists of highest points', 'List of peaks in Norway by prominence', 'Highest points']\u001b[0m\n",
      "\u001b[5m\u001b[7m\u001b[96mGT lbl2data_input_text\u001b[0m \u001b[96m: ['List of islands by highest point', 'Topographic prominence', 'List of the most prominent summits of the United States', 'Topographic elevation', 'Topographic isolation', 'List of mountain lists', 'List of ultra-prominent summits of Africa', 'List of ultra-prominent summits of Antarctica', 'List of ultra-prominent summits of Australia', 'List of ultra-prominent summits of the Alps', 'List of the most prominent summits of the British Isles', 'List of ultra-prominent summits of North America', 'List of the most prominent summits of Greenland', 'List of the most prominent summits of Canada', 'List of the most prominent summits of the Rocky Mountains', 'List of the most prominent summits of New England', 'List of the most prominent summits of Mexico', 'List of the most prominent summits of Central America', 'List of the most prominent summits of the Caribbean', 'List of ultra-prominent summits of South America', 'Summit', 'Ultra-prominent summit']\u001b[0m\n",
      "\u001b[5m\u001b[7m\u001b[37mCachew cat2data_input_text\u001b[0m \u001b[37m: ['Lists of mountains', 'Lists of mountains by prominence']\u001b[0m\n",
      "\u001b[5m\u001b[7m\u001b[37mGT cat2data_input_text\u001b[0m \u001b[37m: ['Lists of mountains', 'Lists of mountains by prominence']\u001b[0m\n",
      "\u001b[5m\u001b[7m\u001b[95mCachew cat2lbl2data_input_text\u001b[0m \u001b[95m: [['Geographical superlatives', 'History of mountaineering'], ['Lists of mountains', 'Lists of mountains by prominence'], ['Lists of mountains'], ['Geography terminology', 'Mountains'], ['Lists of mountains', 'Lists of lists'], [], ['Mountains of South America'], ['Lists of places', 'Lists of lists', 'Lists of highest points'], [], ['Topography', 'Vertical position', 'Highpointing', 'Geographical superlatives']]\u001b[0m\n",
      "\u001b[5m\u001b[7m\u001b[95mGT cat2lbl2data_input_text\u001b[0m \u001b[95m: [['Lists of islands', 'Lists of highest points'], ['Mountaineering', 'Physical geography', 'Topography'], ['Lists of mountains by country', 'Mountains of the United States', 'Lists of mountains of the United States', 'Lists of landforms of the United States', 'Lists of mountains by prominence'], [], ['Mountaineering', 'Physical geography', 'Topography', 'Lists of mountains by isolation'], ['Lists of mountains', 'Lists of lists'], [], [], [], [], [], [], [], ['Lists of mountains by country', 'Lists of mountains by prominence', 'Lists of mountains of Canada', 'Mountains of Canada', 'Lists of landforms of Canada'], [], [], [], [], [], [], ['Geodesy', 'Surveying', 'Cartography', 'Physical geography', 'Topography', 'Slope landforms', 'Oronyms', 'Summits'], []]\u001b[0m\n",
      "\n",
      "\u001b[5m\u001b[7m\u001b[33mCachew data_input_text\u001b[0m \u001b[33m: List of the major 4000-meter summits of the United States\u001b[0m\n",
      "\u001b[5m\u001b[7m\u001b[33mGT data_input_text\u001b[0m \u001b[33m: List of the major 4000-meter summits of the United States\u001b[0m\n",
      "\u001b[5m\u001b[7m\u001b[96mCachew lbl2data_input_text\u001b[0m \u001b[96m: ['Fourteener', 'Topographic prominence', 'Table of the most isolated major summits of the United States', 'topographic prominence', 'topography', 'Mountains of the United States', 'commons:Mountains of the United States', 'Topography', 'List of mountain peaks of Hawai{{okina}}i', 'List of United States fourteeners']\u001b[0m\n",
      "\u001b[5m\u001b[7m\u001b[96mGT lbl2data_input_text\u001b[0m \u001b[96m: ['Geography of the United States', 'List of mountain peaks of Greenland', 'List of mountain peaks of North America', 'List of mountain peaks of Canada', 'Physical geography', 'List of mountain peaks of the Rocky Mountains', 'List of mountain peaks of California', 'List of mountain peaks of Alaska', 'okina', 'Topographic prominence', 'List of mountain peaks of Colorado', 'United States of America', 'Mountains of the United States', 'commons:Mountains of the United States', 'Topography', 'List of the ultra-prominent summits of the United States', 'List of mountain peaks of Hawai{{okina}}i', 'List of mountain peaks of Montana', 'List of mountain peaks of Nevada', 'List of mountain peaks of Utah', 'List of mountain peaks of Washington', 'List of mountain peaks of Wyoming', 'List of mountain peaks of MÃ\\x83Â©xico', 'List of mountain peaks of Central America', 'List of mountain peaks of the Caribbean', 'Geology of the United States', 'Topographic elevation', 'Topographic isolation', 'List of United States fourteeners']\u001b[0m\n",
      "\u001b[5m\u001b[7m\u001b[37mCachew cat2data_input_text\u001b[0m \u001b[37m: ['Lists of mountains by country', 'United States geography-related lists', 'Mountains of the United States']\u001b[0m\n",
      "\u001b[5m\u001b[7m\u001b[37mGT cat2data_input_text\u001b[0m \u001b[37m: ['Lists of mountains by country', 'United States geography-related lists', 'Mountains of the United States']\u001b[0m\n",
      "\u001b[5m\u001b[7m\u001b[95mCachew cat2lbl2data_input_text\u001b[0m \u001b[95m: [['Lists of mountains by country', 'United States geography-related lists', 'Mountains of the United States', 'Lists of mountains of the United States', 'Lists of landforms of the United States', 'United States-related lists', 'Lists of mountains by elevation'], ['Mountaineering', 'Physical geography', 'Topography'], [], [], [], ['Mountains of North America by country', 'Mountains by country', 'Mountains of North America', 'Landforms of the United States', 'Tourist attractions in the United States'], [], ['Cartography', 'Topography'], [], []]\u001b[0m\n",
      "\u001b[5m\u001b[7m\u001b[95mGT cat2lbl2data_input_text\u001b[0m \u001b[95m: [['Geography of the United States'], ['Lists of mountains by country', 'Mountains of Greenland', 'Geography of Greenland', 'Lists of mountains by elevation', 'Lists of mountains by prominence', 'Lists of mountains by isolation', 'Lists of landforms of Greenland'], ['Mountains of North America', 'Geography of North America', 'Lists of mountains by elevation', 'North America-related lists', 'Lists of mountains by prominence', 'Lists of mountains by continent', 'Lists of mountains by isolation'], [], ['Physical geography', 'Branches of geography', 'Earth sciences'], ['Rocky Mountains', 'Mountains of North America', 'Lists of mountains of the United States', 'Lists of mountains by elevation', 'Lists of mountains by prominence', 'Lists of mountains by range', 'Lists of mountains by isolation', 'Lists of mountains of Canada'], ['Lists of mountains of the United States', 'Lists of mountains by elevation', 'Lists of mountains by prominence', 'Mountains of California', 'Lists of landforms of California', 'Lists of mountains by isolation'], ['Mountains of Alaska', 'Lists of mountains of the United States', 'Lists of mountains by elevation', 'Lists of landforms of Alaska', 'Lists of mountains by prominence', 'Lists of mountains by isolation'], [], ['Mountaineering', 'Physical geography', 'Topography'], ['Mountains of Colorado', 'Rocky Mountains', 'Lists of mountains of the United States', 'Lists of mountains by elevation', 'Lists of mountains by prominence', 'Lists of landforms of Colorado', 'Lists of mountains by isolation'], [], ['Mountains of North America by country', 'Mountains by country', 'Mountains of North America', 'Landforms of the United States', 'Tourist attractions in the United States'], [], ['Cartography', 'Topography'], [], [], ['Mountains of Montana', 'Rocky Mountains', 'Lists of mountains of the United States', 'Lists of mountains by elevation', 'Lists of mountains by prominence', 'Lists of mountains by isolation', 'Lists of landforms of Montana', 'Lists of mountains of Montana'], ['Mountains of Nevada', 'Lists of mountains of the United States', 'Lists of mountains by elevation', 'Lists of mountains by prominence', 'Lists of landforms of Nevada', 'Lists of mountains by isolation'], ['Rocky Mountains', 'Mountains of Utah', 'Lists of mountains of the United States', 'Lists of mountains by elevation', 'Lists of mountains by prominence', 'Lists of mountains by isolation', 'Lists of landforms of Utah'], ['Mountains of Washington (state)', 'Lists of mountains of the United States', 'Lists of mountains by elevation', 'Lists of mountains by prominence', 'Lists of landforms of Washington (state)', 'Lists of mountains by isolation'], ['Mountains of Wyoming', 'Rocky Mountains', 'Lists of mountains of the United States', 'Lists of mountains by elevation', 'Lists of mountains by prominence', 'Lists of mountains by isolation', 'Lists of landforms of Wyoming'], [], ['Geography of Central America', 'Lists of mountains by elevation', 'Central America-related lists', 'Lists of mountains by prominence', 'Lists of mountains by isolation', 'Mountains of Central America'], ['Geography of the Caribbean', 'Mountains of the Caribbean', 'Lists of mountains by elevation', 'Lists of mountains by prominence', 'Caribbean-related lists', 'Lists of mountains by isolation'], ['Geology of North America', 'Geology of the United States', 'Geology by country'], [], ['Mountaineering', 'Physical geography', 'Topography', 'Lists of mountains by isolation'], []]\u001b[0m\n",
      "\n",
      "\u001b[5m\u001b[7m\u001b[33mCachew data_input_text\u001b[0m \u001b[33m: Sakshi (novel)\u001b[0m\n",
      "\u001b[5m\u001b[7m\u001b[33mGT data_input_text\u001b[0m \u001b[33m: Sakshi (novel)\u001b[0m\n",
      "\u001b[5m\u001b[7m\u001b[96mCachew lbl2data_input_text\u001b[0m \u001b[96m: ['Dharmashree', 'Doora saridaru', 'Matadana', 'Gruhabhanga', 'Sakshi', 'Tantu', 'Mandra', 'Kavalu', 'Uttarakaanda', 'Bhitti']\u001b[0m\n",
      "\u001b[5m\u001b[7m\u001b[96mGT lbl2data_input_text\u001b[0m \u001b[96m: ['Bheemakaaya', 'Dharmashree', 'Doora saridaru', 'Matadana', 'Naayi Neralu', 'Tabbaliyu Neenade Magane', 'Gruhabhanga', 'Nirakarana', 'Grahana', 'Daatu', 'Anveshana', 'Nele', 'Anchu', 'Tantu', 'Saartha', 'Mandra', 'Aavarana', 'Kavalu', 'Yaana', 'Uttarakaanda', 'Bhitti', 'Parva']\u001b[0m\n",
      "\u001b[5m\u001b[7m\u001b[37mCachew cat2data_input_text\u001b[0m \u001b[37m: ['Kannada novels', '1986 novels']\u001b[0m\n",
      "\u001b[5m\u001b[7m\u001b[37mGT cat2data_input_text\u001b[0m \u001b[37m: ['Kannada novels', '1986 novels']\u001b[0m\n",
      "\u001b[5m\u001b[7m\u001b[95mCachew cat2lbl2data_input_text\u001b[0m \u001b[95m: [['Kannada novels', '1961 novels', '1961 Indian novels'], [], ['Kannada novels', '1965 novels', 'Indian novels adapted into films', '1965 Indian novels'], ['Novels adapted into television programs', 'Kannada novels', '1970 novels', '1970 Indian novels'], [], ['Kannada novels', '1993 novels', '1993 Indian novels'], [], ['Kannada novels', '2010 Indian novels'], [], ['1996 books', 'Kannada novels', 'Indian biographies', 'Indian autobiographies', '21st-century Indian books', '20th-century Indian novels']]\u001b[0m\n",
      "\u001b[5m\u001b[7m\u001b[95mGT cat2lbl2data_input_text\u001b[0m \u001b[95m: [['Kannada novels', '20th-century Indian novels', '1952 novels', '1952 Indian novels'], ['Kannada novels', '1961 novels', '1961 Indian novels'], [], ['Kannada novels', '1965 novels', 'Indian novels adapted into films', '1965 Indian novels'], ['Indian films', 'Kannada literature', '2000s Kannada-language films', 'Films directed by Girish Kasaravalli'], ['Indian films', '1977 films', '1970s Kannada-language films', 'Kannada literature', 'Best Kannada Feature Film National Film Award winners'], ['Novels adapted into television programs', 'Kannada novels', '1970 novels', '1970 Indian novels'], ['Kannada novels'], ['Directorial debut films', 'Indian films', '1978 films', 'Films whose writer won the Best Original Screenplay National Film Award', '1970s Kannada-language films', 'Kannada film scores by Vijaya Bhaskar', 'Best Film on National Integration National Film Award winners', 'Films directed by T. S. Nagabharana'], ['Kannada novels', '20th-century Indian novels', '1973 novels', '1973 Indian novels'], ['Indian films', '1980s thriller films', '1985 films', 'Films set in forests', 'Indian thriller films', 'Tamil-language films', 'Telugu-language films', 'Telugu film scores by Ilaiyaraaja', 'Telugu-language films dubbed in Tamil', '1980s Telugu-language films', '1980s Tamil-language films', 'Films directed by Vamsy', 'Multilingual films'], ['Populated places in Solukhumbu District'], [], ['Kannada novels', '1993 novels', '1993 Indian novels'], ['Kannada novels', '1998 novels', '20th-century Indian novels'], [], ['Kannada novels', '2007 Indian novels'], ['Kannada novels', '2010 Indian novels'], [], [], ['1996 books', 'Kannada novels', 'Indian biographies', 'Indian autobiographies', '21st-century Indian books', '20th-century Indian novels'], []]\u001b[0m\n",
      "\n",
      "\u001b[5m\u001b[7m\u001b[33mCachew data_input_text\u001b[0m \u001b[33m: Haplogroup C-M130\u001b[0m\n",
      "\u001b[5m\u001b[7m\u001b[33mGT data_input_text\u001b[0m \u001b[33m: Haplogroup C-M130\u001b[0m\n",
      "\u001b[5m\u001b[7m\u001b[96mCachew lbl2data_input_text\u001b[0m \u001b[96m: ['Paragroup', 'Mega-Haplogroup CF', 'Mega-Haplogroup CT', 'C-M208', 'C-M210', 'C-M216', 'C-M8', 'C-P33', 'C-P44', 'C-M130']\u001b[0m\n",
      "\u001b[5m\u001b[7m\u001b[96mGT lbl2data_input_text\u001b[0m \u001b[96m: ['Subclade', 'Haplotype', 'Y-chromosome haplogroups in populations of the world', 'Y-DNA haplogroups in populations of East and Southeast Asia', 'Haplogroup', 'Y-DNA haplogroups by ethnic group', 'Human Y-chromosome DNA haplogroup', 'Paragroup', 'genetic genealogy', 'molecular phylogeny', 'Y-DNA haplogroups in populations of Oceania', 'Mega-Haplogroup CF', 'Mega-Haplogroup CT', 'C-M208', 'C-M210', 'C-M216', 'C-M217', 'C-M38', 'C-M8', 'C-M93', 'C-P33', 'C-P44']\u001b[0m\n",
      "\u001b[5m\u001b[7m\u001b[37mCachew cat2data_input_text\u001b[0m \u001b[37m: ['Human Y-DNA haplogroups']\u001b[0m\n",
      "\u001b[5m\u001b[7m\u001b[37mGT cat2data_input_text\u001b[0m \u001b[37m: ['Human Y-DNA haplogroups']\u001b[0m\n",
      "\u001b[5m\u001b[7m\u001b[95mCachew cat2lbl2data_input_text\u001b[0m \u001b[95m: [['Genetic genealogy', 'Human haplogroups'], [], [], [], [], [], [], [], [], []]\u001b[0m\n",
      "\u001b[5m\u001b[7m\u001b[95mGT cat2lbl2data_input_text\u001b[0m \u001b[95m: [['Genetic genealogy', 'Genetics'], ['Genetic genealogy', 'Classical genetics', 'Population genetics'], [], ['Human Y-DNA haplogroup population frequencies'], ['DNA', 'Classical genetics', 'Population genetics', 'Human evolution', 'Phylogenetics'], ['Genetic genealogy', 'Genetics', 'Race (human categorization)', 'Human Y-DNA haplogroups', 'Ethnic groups'], ['Human Y-DNA haplogroups'], ['Genetic genealogy', 'Human haplogroups'], [], [], ['Human Y-DNA haplogroup population frequencies'], [], [], [], [], [], [], [], [], [], [], []]\u001b[0m\n",
      "\n",
      "\u001b[5m\u001b[7m\u001b[33mCachew data_input_text\u001b[0m \u001b[33m: Yaana (novel)\u001b[0m\n",
      "\u001b[5m\u001b[7m\u001b[33mGT data_input_text\u001b[0m \u001b[33m: Yaana (novel)\u001b[0m\n",
      "\u001b[5m\u001b[7m\u001b[96mCachew lbl2data_input_text\u001b[0m \u001b[96m: ['Dharmashree', 'Doora saridaru', 'Matadana', 'Nirakarana', 'Daatu', 'Sakshi', 'Saartha', 'Yaana', 'Bhitti', 'Parva']\u001b[0m\n",
      "\u001b[5m\u001b[7m\u001b[96mGT lbl2data_input_text\u001b[0m \u001b[96m: ['Bheemakaaya', 'Dharmashree', 'Doora saridaru', 'Matadana', 'Naayi Neralu', 'Tabbaliyu Neenade Magane', 'Gruhabhanga', 'Nirakarana', 'Grahana', 'Daatu', 'Anveshana', 'Nele', 'Sakshi', 'Anchu', 'Tantu', 'Saartha', 'Mandra', 'Aavarana', 'Kavalu', 'Uttarakaanda', 'Bhitti', 'Parva']\u001b[0m\n",
      "\u001b[5m\u001b[7m\u001b[37mCachew cat2data_input_text\u001b[0m \u001b[37m: ['Kannada novels', 'Proxima Centauri in fiction']\u001b[0m\n",
      "\u001b[5m\u001b[7m\u001b[37mGT cat2data_input_text\u001b[0m \u001b[37m: ['Kannada novels', 'Proxima Centauri in fiction']\u001b[0m\n",
      "\u001b[5m\u001b[7m\u001b[95mCachew cat2lbl2data_input_text\u001b[0m \u001b[95m: [['Kannada novels', '1961 novels', '1961 Indian novels'], [], ['Kannada novels', '1965 novels', 'Indian novels adapted into films', '1965 Indian novels'], ['Kannada novels'], ['Kannada novels', '20th-century Indian novels', '1973 novels', '1973 Indian novels'], [], ['Kannada novels', '1998 novels', '20th-century Indian novels'], [], ['1996 books', 'Kannada novels', 'Indian biographies', 'Indian autobiographies', '21st-century Indian books', '20th-century Indian novels'], []]\u001b[0m\n",
      "\u001b[5m\u001b[7m\u001b[95mGT cat2lbl2data_input_text\u001b[0m \u001b[95m: [['Kannada novels', '20th-century Indian novels', '1952 novels', '1952 Indian novels'], ['Kannada novels', '1961 novels', '1961 Indian novels'], [], ['Kannada novels', '1965 novels', 'Indian novels adapted into films', '1965 Indian novels'], ['Indian films', 'Kannada literature', '2000s Kannada-language films', 'Films directed by Girish Kasaravalli'], ['Indian films', '1977 films', '1970s Kannada-language films', 'Kannada literature', 'Best Kannada Feature Film National Film Award winners'], ['Novels adapted into television programs', 'Kannada novels', '1970 novels', '1970 Indian novels'], ['Kannada novels'], ['Directorial debut films', 'Indian films', '1978 films', 'Films whose writer won the Best Original Screenplay National Film Award', '1970s Kannada-language films', 'Kannada film scores by Vijaya Bhaskar', 'Best Film on National Integration National Film Award winners', 'Films directed by T. S. Nagabharana'], ['Kannada novels', '20th-century Indian novels', '1973 novels', '1973 Indian novels'], ['Indian films', '1980s thriller films', '1985 films', 'Films set in forests', 'Indian thriller films', 'Tamil-language films', 'Telugu-language films', 'Telugu film scores by Ilaiyaraaja', 'Telugu-language films dubbed in Tamil', '1980s Telugu-language films', '1980s Tamil-language films', 'Films directed by Vamsy', 'Multilingual films'], ['Populated places in Solukhumbu District'], [], [], ['Kannada novels', '1993 novels', '1993 Indian novels'], ['Kannada novels', '1998 novels', '20th-century Indian novels'], [], ['Kannada novels', '2007 Indian novels'], ['Kannada novels', '2010 Indian novels'], [], ['1996 books', 'Kannada novels', 'Indian biographies', 'Indian autobiographies', '21st-century Indian books', '20th-century Indian novels'], []]\u001b[0m\n",
      "\n",
      "\u001b[5m\u001b[7m\u001b[33mCachew data_input_text\u001b[0m \u001b[33m: Nele (novel)\u001b[0m\n",
      "\u001b[5m\u001b[7m\u001b[33mGT data_input_text\u001b[0m \u001b[33m: Nele (novel)\u001b[0m\n",
      "\u001b[5m\u001b[7m\u001b[96mCachew lbl2data_input_text\u001b[0m \u001b[96m: ['Dharmashree', 'Doora saridaru', 'Matadana', 'Nirakarana', 'Anveshana', 'Nele', 'Sakshi', 'Tantu', 'Kavalu', 'Parva']\u001b[0m\n",
      "\u001b[5m\u001b[7m\u001b[96mGT lbl2data_input_text\u001b[0m \u001b[96m: ['Bheemakaaya', 'Dharmashree', 'Doora saridaru', 'Matadana', 'Naayi Neralu', 'Tabbaliyu Neenade Magane', 'Gruhabhanga', 'Nirakarana', 'Grahana', 'Daatu', 'Anveshana', 'Sakshi', 'Anchu', 'Tantu', 'Saartha', 'Mandra', 'Aavarana', 'Kavalu', 'Yaana', 'Uttarakaanda', 'Bhitti', 'Parva']\u001b[0m\n",
      "\u001b[5m\u001b[7m\u001b[37mCachew cat2data_input_text\u001b[0m \u001b[37m: ['Kannada novels', 'Philosophical novels', '20th-century Indian novels']\u001b[0m\n",
      "\u001b[5m\u001b[7m\u001b[37mGT cat2data_input_text\u001b[0m \u001b[37m: ['Kannada novels', 'Philosophical novels', '20th-century Indian novels']\u001b[0m\n",
      "\u001b[5m\u001b[7m\u001b[95mCachew cat2lbl2data_input_text\u001b[0m \u001b[95m: [['Kannada novels', '1961 novels', '1961 Indian novels'], [], ['Kannada novels', '1965 novels', 'Indian novels adapted into films', '1965 Indian novels'], ['Kannada novels'], ['Indian films', '1980s thriller films', '1985 films', 'Films set in forests', 'Indian thriller films', 'Tamil-language films', 'Telugu-language films', 'Telugu film scores by Ilaiyaraaja', 'Telugu-language films dubbed in Tamil', '1980s Telugu-language films', '1980s Tamil-language films', 'Films directed by Vamsy', 'Multilingual films'], ['Populated places in Solukhumbu District'], [], ['Kannada novels', '1993 novels', '1993 Indian novels'], ['Kannada novels', '2010 Indian novels'], []]\u001b[0m\n",
      "\u001b[5m\u001b[7m\u001b[95mGT cat2lbl2data_input_text\u001b[0m \u001b[95m: [['Kannada novels', '20th-century Indian novels', '1952 novels', '1952 Indian novels'], ['Kannada novels', '1961 novels', '1961 Indian novels'], [], ['Kannada novels', '1965 novels', 'Indian novels adapted into films', '1965 Indian novels'], ['Indian films', 'Kannada literature', '2000s Kannada-language films', 'Films directed by Girish Kasaravalli'], ['Indian films', '1977 films', '1970s Kannada-language films', 'Kannada literature', 'Best Kannada Feature Film National Film Award winners'], ['Novels adapted into television programs', 'Kannada novels', '1970 novels', '1970 Indian novels'], ['Kannada novels'], ['Directorial debut films', 'Indian films', '1978 films', 'Films whose writer won the Best Original Screenplay National Film Award', '1970s Kannada-language films', 'Kannada film scores by Vijaya Bhaskar', 'Best Film on National Integration National Film Award winners', 'Films directed by T. S. Nagabharana'], ['Kannada novels', '20th-century Indian novels', '1973 novels', '1973 Indian novels'], ['Indian films', '1980s thriller films', '1985 films', 'Films set in forests', 'Indian thriller films', 'Tamil-language films', 'Telugu-language films', 'Telugu film scores by Ilaiyaraaja', 'Telugu-language films dubbed in Tamil', '1980s Telugu-language films', '1980s Tamil-language films', 'Films directed by Vamsy', 'Multilingual films'], [], [], ['Kannada novels', '1993 novels', '1993 Indian novels'], ['Kannada novels', '1998 novels', '20th-century Indian novels'], [], ['Kannada novels', '2007 Indian novels'], ['Kannada novels', '2010 Indian novels'], [], [], ['1996 books', 'Kannada novels', 'Indian biographies', 'Indian autobiographies', '21st-century Indian books', '20th-century Indian novels'], []]\u001b[0m\n",
      "\n",
      "\u001b[5m\u001b[7m\u001b[33mCachew data_input_text\u001b[0m \u001b[33m: Template:COE profile/doc\u001b[0m\n",
      "\u001b[5m\u001b[7m\u001b[33mGT data_input_text\u001b[0m \u001b[33m: Template:COE profile/doc\u001b[0m\n",
      "\u001b[5m\u001b[7m\u001b[96mCachew lbl2data_input_text\u001b[0m \u001b[96m: [\"''Deutscher Olympischer Sportbund''\", \"''Magyar Olimpiai BizottsÃ\\x83Â¡g''\", \"''Sveriges Olympiska KommittÃ\\x83Â©''\", 'AOC profile', 'BOC profile', 'COA profile', 'COC profile', 'COE profile', 'DOSB profile', 'MOB profile']\u001b[0m\n",
      "\u001b[5m\u001b[7m\u001b[96mGT lbl2data_input_text\u001b[0m \u001b[96m: ['International Olympic Committee', 'New Zealand Olympic Committee', 'Brazilian Olympic Committee', 'Australian Olympic Committee', 'United States Olympic Committee', \"''ComitÃ\\x83Â© National Olympique et Sportif FranÃ\\x83Â§ais''\", \"''ComitÃ\\x83Â© OlÃ\\x83Â\\xadmpico Argentino''\", 'Canadian Olympic Committee', \"''Comitato Olimpico Nazionale Italiano''\", \"''Comitetul Olimpic Ã\\x88Â\\x99i Sportiv RomÃ\\x83Â¢n''\", \"''Ã\\x84Â\\x8ceskÃ\\x83Â½ olympijskÃ\\x83Â½ vÃ\\x83Â½bor''\", \"''Deutscher Olympischer Sportbund''\", \"''Latvijas OlimpiskÃ\\x84Â\\x81 Komiteja''\", \"''Magyar Olimpiai BizottsÃ\\x83Â¡g''\", \"''Sveriges Olympiska KommittÃ\\x83Â©''\", 'Team GB', 'IOC profile', 'AOC profile', 'BOC profile', 'CNOSF profile', 'COA profile', 'COC profile', 'CONI profile', 'COSR profile', 'COV profile', 'DOSB profile', 'LOK profile', 'MOB profile', 'NZOC profile', 'SOK profile', 'USOC profile']\u001b[0m\n",
      "\u001b[5m\u001b[7m\u001b[37mCachew cat2data_input_text\u001b[0m \u001b[37m: ['People and person external link templates', 'Olympics external link templates']\u001b[0m\n",
      "\u001b[5m\u001b[7m\u001b[37mGT cat2data_input_text\u001b[0m \u001b[37m: ['People and person external link templates', 'Olympics external link templates']\u001b[0m\n",
      "\u001b[5m\u001b[7m\u001b[95mCachew cat2lbl2data_input_text\u001b[0m \u001b[95m: [[], [], [], [], [], [], [], [], [], []]\u001b[0m\n",
      "\u001b[5m\u001b[7m\u001b[95mGT cat2lbl2data_input_text\u001b[0m \u001b[95m: [['Olympic organizations', 'Supraorganizations', 'United Nations General Assembly observers', 'International Olympic Committee', 'International sports bodies based in Switzerland', 'Organisations based in Lausanne', 'International sports organizations', '1894 establishments in Switzerland', 'Sports organisations established in 1894'], ['National Olympic Committees', 'Sports governing bodies in New Zealand', 'Commonwealth Games Associations', '1911 establishments in New Zealand', 'Sports organisations established in 1911', 'New Zealand at the Olympics'], ['National Olympic Committees', 'Sports governing bodies in Brazil', 'Sports organisations established in 1914', 'Brazil at the Olympics', '1914 establishments in Brazil'], ['1914 establishments in Australia', 'National Olympic Committees', 'Sports governing bodies in Australia', 'Sport in Australia', 'Australia at the Olympics', 'Sports organisations established in 1914'], ['Organizations based in Colorado Springs, Colorado', 'Patriotic and national organizations chartered by the United States Congress', 'Sports governing bodies in the United States', 'Disability organizations based in the United States', 'National Paralympic Committees', 'United States at the Olympics', 'Sports organisations established in 1894', 'Sports in Colorado Springs, Colorado', '1894 establishments in the United States', 'United States Olympic Committee', 'United States at the Paralympics'], [], [], ['Organizations based in Toronto', 'Sports governing bodies in Canada', 'National Olympic Committees', 'Sports organisations established in 1904', 'Canada at the Olympics', '1904 establishments in Ontario'], [], [], [], [], [], [], [], ['Great Britain at the Olympics', 'British brands', '1999 introductions'], [], [], [], [], [], [], [], [], [], [], [], [], [], [], []]\u001b[0m\n",
      "\n",
      "\u001b[5m\u001b[7m\u001b[33mCachew data_input_text\u001b[0m \u001b[33m: List of Australasian boxing champions\u001b[0m\n",
      "\u001b[5m\u001b[7m\u001b[33mGT data_input_text\u001b[0m \u001b[33m: List of Australasian boxing champions\u001b[0m\n",
      "\u001b[5m\u001b[7m\u001b[96mCachew lbl2data_input_text\u001b[0m \u001b[96m: ['List of Australasian Boxing Champions', 'List of New Zealand light heavyweight boxing champions', 'List of New Zealand super middleweight boxing champions', 'List of New Zealand super welterweight boxing champions', 'List of New Zealand welterweight boxing champions', 'List of New Zealand super lightweight boxing champions', 'List of New Zealand lightweight boxing champions', 'List of New Zealand super featherweight boxing champions', 'List of New Zealand featherweight boxing champions', 'List of New Zealand heavyweight boxing champions']\u001b[0m\n",
      "\u001b[5m\u001b[7m\u001b[96mGT lbl2data_input_text\u001b[0m \u001b[96m: ['List of Australian cruiserweight boxing champions', 'List of New Zealand cruiserweight boxing champions', 'Boxing in Australia', 'List of Australian middleweight boxing champions', 'List of New Zealand middleweight boxing champions', 'List of Australian female boxing champions', 'List of Australian light heavyweight boxing champions', 'List of Australian super middleweight boxing champions', 'List of Australian super welterweight boxing champions', 'List of Australian welterweight boxing champions', 'List of Australian super lightweight boxing champions', 'List of Australian lightweight boxing champions', 'List of Australian super featherweight boxing champions', 'List of Australian featherweight boxing champions', 'List of Australian bantamweight boxing champions', 'Professional boxing in New Zealand', 'List of Australian heavyweight boxing champions', 'List of New Zealand female boxing champions', 'List of New Zealand light heavyweight boxing champions', 'List of New Zealand super middleweight boxing champions', 'List of New Zealand super welterweight boxing champions', 'List of New Zealand welterweight boxing champions', 'List of New Zealand super lightweight boxing champions', 'List of New Zealand lightweight boxing champions', 'List of New Zealand super featherweight boxing champions', 'List of New Zealand featherweight boxing champions', 'List of New Zealand bantamweight boxing champions', 'List of New Zealand heavyweight boxing champions']\u001b[0m\n",
      "\u001b[5m\u001b[7m\u001b[37mCachew cat2data_input_text\u001b[0m \u001b[37m: ['Boxing in Australia', 'Boxing in New Zealand', 'Lists of Australian professional boxing champions']\u001b[0m\n",
      "\u001b[5m\u001b[7m\u001b[37mGT cat2data_input_text\u001b[0m \u001b[37m: ['Boxing in Australia', 'Boxing in New Zealand', 'Lists of Australian professional boxing champions']\u001b[0m\n",
      "\u001b[5m\u001b[7m\u001b[95mCachew cat2lbl2data_input_text\u001b[0m \u001b[95m: [[], ['Light-heavyweight boxers', 'Lists of New Zealand professional boxing champions'], ['Super-middleweight boxers', 'Lists of New Zealand professional boxing champions'], ['Lists of New Zealand professional boxing champions'], ['Welterweight boxers', 'Lists of New Zealand professional boxing champions'], ['Light-welterweight boxers', 'Lists of New Zealand professional boxing champions'], ['Lightweight boxers', 'Lists of New Zealand professional boxing champions'], [], ['Featherweight boxers', 'Lists of New Zealand professional boxing champions'], ['Heavyweight boxers', 'Lists of New Zealand professional boxing champions']]\u001b[0m\n",
      "\u001b[5m\u001b[7m\u001b[95mGT cat2lbl2data_input_text\u001b[0m \u001b[95m: [['Cruiserweight boxers', 'Australian boxers', 'Lists of Australian professional boxing champions', 'Incomplete sports result lists', 'Incomplete sports lists'], ['Cruiserweight boxers', 'Lists of New Zealand professional boxing champions'], ['Boxing in Australia'], ['Middleweight boxers', 'Boxing articles needing attention', 'Australian boxers', 'Lists of Australian professional boxing champions', 'Incomplete sports result lists', 'Incomplete sports lists'], ['Middleweight boxers', 'Lists of New Zealand professional boxing champions'], ['Australian women boxers', 'Lists of Australian sportswomen', 'Australian boxers', 'Lists of Australian professional boxing champions', 'Lists of women boxers'], [], [], [], [], [], [], [], [], [], ['Boxing in New Zealand', 'Sport in New Zealand'], ['Heavyweight boxers', 'Australian boxers', 'Lists of Australian professional boxing champions'], ['Lists of women boxers', 'Lists of New Zealand professional boxing champions', 'New Zealand women boxers', 'Lists of New Zealand sportswomen'], ['Light-heavyweight boxers', 'Lists of New Zealand professional boxing champions'], ['Super-middleweight boxers', 'Lists of New Zealand professional boxing champions'], ['Lists of New Zealand professional boxing champions'], ['Welterweight boxers', 'Lists of New Zealand professional boxing champions'], ['Light-welterweight boxers', 'Lists of New Zealand professional boxing champions'], ['Lightweight boxers', 'Lists of New Zealand professional boxing champions'], [], ['Featherweight boxers', 'Lists of New Zealand professional boxing champions'], ['Bantamweight boxers', 'Lists of New Zealand professional boxing champions'], ['Heavyweight boxers', 'Lists of New Zealand professional boxing champions']]\u001b[0m\n",
      "\n",
      "\u001b[5m\u001b[7m\u001b[33mCachew data_input_text\u001b[0m \u001b[33m: List of Afro-Latinos\u001b[0m\n",
      "\u001b[5m\u001b[7m\u001b[33mGT data_input_text\u001b[0m \u001b[33m: List of Afro-Latinos\u001b[0m\n",
      "\u001b[5m\u001b[7m\u001b[96mCachew lbl2data_input_text\u001b[0m \u001b[96m: ['Black Hispanic and Latino Americans', 'Afro-Latin American', 'Afro-Mexican', 'Afro-Latin Americans', 'Afro-Ecuadorian', 'Afro-Latino', 'List of Afro-Latinos', 'Afro-Hispanic people', 'Afro-Latinos', 'List of Famous Afro-Latinos']\u001b[0m\n",
      "\u001b[5m\u001b[7m\u001b[96mGT lbl2data_input_text\u001b[0m \u001b[96m: ['African diaspora', 'List of topics related to Black and African people', 'Afro-Latin American', 'Afro-Cuban', 'Afro-Mexican', 'African diaspora in the Americas', 'Afro-Uruguayan', 'Afro-Argentine', 'Afro-Bolivian', 'Afro-Brazilian', 'Afro-Colombian', 'Afro-Costa Rican', 'Afro-Ecuadorian', 'Afro-Haitian', 'Afro-Nicaraguan', 'Afro-Panamanian', 'Afro-Peruvian', 'Afro-Puerto Rican', 'Afro-Salvadoran', 'Afro-Venezuelan', 'Afro-Dominican']\u001b[0m\n",
      "\u001b[5m\u001b[7m\u001b[37mCachew cat2data_input_text\u001b[0m \u001b[37m: ['Ethnic groups in the Caribbean', 'Ethnic groups in Central America', 'Ethnic groups in Latin America']\u001b[0m\n",
      "\u001b[5m\u001b[7m\u001b[37mGT cat2data_input_text\u001b[0m \u001b[37m: ['Ethnic groups in the Caribbean', 'Ethnic groups in Central America', 'Ethnic groups in Latin America']\u001b[0m\n",
      "\u001b[5m\u001b[7m\u001b[95mCachew cat2lbl2data_input_text\u001b[0m \u001b[95m: [['Africanâ\\x80\\x93Hispanic and Latino American relations', 'Immigration to the United States', 'Ethnic groups in the United States', 'People of African descent', 'Hispanic and Latino American people', 'Hispanic and Latino American', 'American people by ethnic or national origin', 'Latino diaspora'], [], [], ['Afro-Latin American', 'Ethnic groups in the Caribbean', 'Ethnic groups in Central America', 'Ethnic groups in Latin America', 'Ethnic groups in North America', 'Ethnic groups in South America'], ['People of African descent', 'Afro-Ecuadorian', 'Ecuadorian people of African descent', 'Ethnic groups in Ecuador'], [], ['Ethnic groups in the Caribbean', 'Ethnic groups in Central America', 'Ethnic groups in Latin America', 'Ethnic groups in North America', 'Ethnic groups in South America', 'Latin American people of African descent', 'Lists of people by ethnicity', 'Lists of black people'], [], [], []]\u001b[0m\n",
      "\u001b[5m\u001b[7m\u001b[95mGT cat2lbl2data_input_text\u001b[0m \u001b[95m: [['African diaspora', 'Slavery in North America', 'Slavery in South America'], [], [], ['Cuban people of African descent', 'People of African descent', 'Afro-Caribbean', 'Afro-Cuban', 'Cuban society', 'Ethnic groups in Cuba'], [], ['People of African descent', 'Slavery in North America', 'Slavery in South America', 'African diaspora in North America', 'African diaspora in South America', 'Ethnic groups in the Americas'], [], [], ['People of African descent', 'Afro-Bolivian', 'Bolivian people of African descent', 'La Paz Department (Bolivia)', 'Ethnic groups in Bolivia'], [], [], [], ['People of African descent', 'Afro-Ecuadorian', 'Ecuadorian people of African descent', 'Ethnic groups in Ecuador'], [], ['People of African descent', 'Afro-Nicaraguan', 'Ethnic groups in Nicaragua', 'Nicaraguan people of African descent'], ['People of African descent', 'Afro-Panamanian', 'Ethnic groups in Panama', 'Panamanian people of African descent'], ['People of African descent', 'Afro-Peruvian', 'Ethnic groups in Peru', 'Peruvian people of African descent'], [], ['People of African descent', 'Ethnic groups in El Salvador', 'Afro-Central American', 'Salvadoran people of African descent'], ['People of African descent', 'Afro-Venezuelan', 'Ethnic groups in Venezuela', 'Venezuelan people of African descent'], []]\u001b[0m\n",
      "\n",
      "\u001b[5m\u001b[7m\u001b[33mCachew data_input_text\u001b[0m \u001b[33m: List of the major 3000-meter summits of North America\u001b[0m\n",
      "\u001b[5m\u001b[7m\u001b[33mGT data_input_text\u001b[0m \u001b[33m: List of the major 3000-meter summits of North America\u001b[0m\n",
      "\u001b[5m\u001b[7m\u001b[96mCachew lbl2data_input_text\u001b[0m \u001b[96m: ['topographic elevation', 'List of ultra-prominent summits of North America', 'Geography of North America', 'List of the highest islands of North America', 'Table of the highest major summits of North America', 'List of the highest major summits of North America', 'Lists of mountain peaks of North America', 'Mountains of North America', 'commons:Mountains of North America', 'Table of the most isolated major summits of North America']\u001b[0m\n",
      "\u001b[5m\u001b[7m\u001b[96mGT lbl2data_input_text\u001b[0m \u001b[96m: ['North America', 'List of mountain peaks of Greenland', 'List of mountain peaks of Canada', 'List of mountain peaks of the United States', 'Physical geography', 'List of mountain peaks of the Rocky Mountains', 'Geology of North America', 'Topographic prominence', 'Topography', 'List of mountain peaks of MÃ\\x83Â©xico', 'List of mountain peaks of Central America', 'List of mountain peaks of the Caribbean', 'Topographic elevation', 'Topographic isolation', 'Geography of North America', 'List of the highest islands of North America', 'List of the most prominent summits of North America', 'Lists of mountain peaks of North America', 'List of the ultra-prominent summits of North America', 'Mountains of North America', 'commons:Mountains of North America']\u001b[0m\n",
      "\u001b[5m\u001b[7m\u001b[37mCachew cat2data_input_text\u001b[0m \u001b[37m: ['Mountains of North America', 'Geography of North America', 'Lists of mountains by elevation']\u001b[0m\n",
      "\u001b[5m\u001b[7m\u001b[37mGT cat2data_input_text\u001b[0m \u001b[37m: ['Mountains of North America', 'Geography of North America', 'Lists of mountains by elevation']\u001b[0m\n",
      "\u001b[5m\u001b[7m\u001b[95mCachew cat2lbl2data_input_text\u001b[0m \u001b[95m: [[], [], ['Geography of North America', 'Water in North America'], ['Mountains of North America', 'Geography of North America', 'Lists of mountains by elevation', 'North America-related lists'], [], ['Mountains of North America', 'Geography of North America', 'North America-related lists'], [], ['Landforms of North America', 'Mountains by continent'], [], []]\u001b[0m\n",
      "\u001b[5m\u001b[7m\u001b[95mGT cat2lbl2data_input_text\u001b[0m \u001b[95m: [['Continents', 'North America'], ['Lists of mountains by country', 'Mountains of Greenland', 'Geography of Greenland', 'Lists of mountains by elevation', 'Lists of mountains by prominence', 'Lists of mountains by isolation', 'Lists of landforms of Greenland'], [], ['Lists of mountains by country', 'Mountains of the United States', 'Lists of mountains of the United States', 'Lists of landforms of the United States', 'Lists of mountains by elevation', 'Lists of mountains by prominence', 'Lists of mountains by isolation'], ['Physical geography', 'Branches of geography', 'Earth sciences'], ['Rocky Mountains', 'Mountains of North America', 'Lists of mountains of the United States', 'Lists of mountains by elevation', 'Lists of mountains by prominence', 'Lists of mountains by range', 'Lists of mountains by isolation', 'Lists of mountains of Canada'], ['Geology of North America', 'Regional geology'], ['Mountaineering', 'Physical geography', 'Topography'], ['Cartography', 'Topography'], [], ['Geography of Central America', 'Lists of mountains by elevation', 'Central America-related lists', 'Lists of mountains by prominence', 'Lists of mountains by isolation', 'Mountains of Central America'], ['Geography of the Caribbean', 'Mountains of the Caribbean', 'Lists of mountains by elevation', 'Lists of mountains by prominence', 'Caribbean-related lists', 'Lists of mountains by isolation'], [], ['Mountaineering', 'Physical geography', 'Topography', 'Lists of mountains by isolation'], ['Geography of North America', 'Water in North America'], ['Mountains of North America', 'Geography of North America', 'Lists of mountains by elevation', 'North America-related lists'], [], [], [], ['Landforms of North America', 'Mountains by continent'], []]\u001b[0m\n",
      "\n"
     ]
    }
   ],
   "source": [
    "disp = CompareDataset(pred_block_1, gt_dset, 'Cachew', 'GT')\n",
    "disp.show(idxs[:10])"
   ]
  },
  {
   "cell_type": "code",
   "execution_count": 72,
   "metadata": {},
   "outputs": [
    {
     "name": "stdout",
     "output_type": "stream",
     "text": [
      "\u001b[5m\u001b[7m\u001b[90mOAK data_input_text\u001b[0m \u001b[90m: List of peaks by prominence\u001b[0m\n",
      "\u001b[5m\u001b[7m\u001b[90mGT data_input_text\u001b[0m \u001b[90m: List of peaks by prominence\u001b[0m\n",
      "\u001b[5m\u001b[7m\u001b[92mOAK lbl2data_input_text\u001b[0m \u001b[92m: ['List of peaks by prominence', 'Topographic prominence', 'summit (topography)', 'topographic elevation', 'topographic prominence', 'topography', 'Topographic elevation', 'Topographic isolation', 'List of the most prominent summits of Central America', 'List of the most prominent summits of the Caribbean']\u001b[0m\n",
      "\u001b[5m\u001b[7m\u001b[92mGT lbl2data_input_text\u001b[0m \u001b[92m: ['List of islands by highest point', 'Topographic prominence', 'List of the most prominent summits of the United States', 'Topographic elevation', 'Topographic isolation', 'List of mountain lists', 'List of ultra-prominent summits of Africa', 'List of ultra-prominent summits of Antarctica', 'List of ultra-prominent summits of Australia', 'List of ultra-prominent summits of the Alps', 'List of the most prominent summits of the British Isles', 'List of ultra-prominent summits of North America', 'List of the most prominent summits of Greenland', 'List of the most prominent summits of Canada', 'List of the most prominent summits of the Rocky Mountains', 'List of the most prominent summits of New England', 'List of the most prominent summits of Mexico', 'List of the most prominent summits of Central America', 'List of the most prominent summits of the Caribbean', 'List of ultra-prominent summits of South America', 'Summit', 'Ultra-prominent summit']\u001b[0m\n",
      "\u001b[5m\u001b[7m\u001b[34mOAK cat2data_input_text\u001b[0m \u001b[34m: ['Lists of mountains', 'Lists of mountains by prominence']\u001b[0m\n",
      "\u001b[5m\u001b[7m\u001b[34mGT cat2data_input_text\u001b[0m \u001b[34m: ['Lists of mountains', 'Lists of mountains by prominence']\u001b[0m\n",
      "\u001b[5m\u001b[7m\u001b[37mOAK cat2lbl2data_input_text\u001b[0m \u001b[37m: [['Lists of mountains', 'Lists of mountains by prominence'], ['Mountaineering', 'Physical geography', 'Topography'], [], [], [], [], [], ['Mountaineering', 'Physical geography', 'Topography', 'Lists of mountains by isolation'], [], []]\u001b[0m\n",
      "\u001b[5m\u001b[7m\u001b[37mGT cat2lbl2data_input_text\u001b[0m \u001b[37m: [['Lists of islands', 'Lists of highest points'], ['Mountaineering', 'Physical geography', 'Topography'], ['Lists of mountains by country', 'Mountains of the United States', 'Lists of mountains of the United States', 'Lists of landforms of the United States', 'Lists of mountains by prominence'], [], ['Mountaineering', 'Physical geography', 'Topography', 'Lists of mountains by isolation'], ['Lists of mountains', 'Lists of lists'], [], [], [], [], [], [], [], ['Lists of mountains by country', 'Lists of mountains by prominence', 'Lists of mountains of Canada', 'Mountains of Canada', 'Lists of landforms of Canada'], [], [], [], [], [], [], ['Geodesy', 'Surveying', 'Cartography', 'Physical geography', 'Topography', 'Slope landforms', 'Oronyms', 'Summits'], []]\u001b[0m\n",
      "\n",
      "\u001b[5m\u001b[7m\u001b[90mOAK data_input_text\u001b[0m \u001b[90m: List of the major 4000-meter summits of the United States\u001b[0m\n",
      "\u001b[5m\u001b[7m\u001b[90mGT data_input_text\u001b[0m \u001b[90m: List of the major 4000-meter summits of the United States\u001b[0m\n",
      "\u001b[5m\u001b[7m\u001b[92mOAK lbl2data_input_text\u001b[0m \u001b[92m: ['Topographic prominence', 'Table of the most isolated major summits of the United States', 'topographic prominence', 'Mountains of the United States', 'commons:Mountains of the United States', 'List of the ultra-prominent summits of the United States', 'List of mountain peaks of Hawai{{okina}}i', 'List of mountain peaks of Montana', 'List of mountain peaks of Nevada', 'List of mountain peaks of Wyoming']\u001b[0m\n",
      "\u001b[5m\u001b[7m\u001b[92mGT lbl2data_input_text\u001b[0m \u001b[92m: ['Geography of the United States', 'List of mountain peaks of Greenland', 'List of mountain peaks of North America', 'List of mountain peaks of Canada', 'Physical geography', 'List of mountain peaks of the Rocky Mountains', 'List of mountain peaks of California', 'List of mountain peaks of Alaska', 'okina', 'Topographic prominence', 'List of mountain peaks of Colorado', 'United States of America', 'Mountains of the United States', 'commons:Mountains of the United States', 'Topography', 'List of the ultra-prominent summits of the United States', 'List of mountain peaks of Hawai{{okina}}i', 'List of mountain peaks of Montana', 'List of mountain peaks of Nevada', 'List of mountain peaks of Utah', 'List of mountain peaks of Washington', 'List of mountain peaks of Wyoming', 'List of mountain peaks of MÃ\\x83Â©xico', 'List of mountain peaks of Central America', 'List of mountain peaks of the Caribbean', 'Geology of the United States', 'Topographic elevation', 'Topographic isolation', 'List of United States fourteeners']\u001b[0m\n",
      "\u001b[5m\u001b[7m\u001b[34mOAK cat2data_input_text\u001b[0m \u001b[34m: ['Lists of mountains by country', 'United States geography-related lists', 'Mountains of the United States']\u001b[0m\n",
      "\u001b[5m\u001b[7m\u001b[34mGT cat2data_input_text\u001b[0m \u001b[34m: ['Lists of mountains by country', 'United States geography-related lists', 'Mountains of the United States']\u001b[0m\n",
      "\u001b[5m\u001b[7m\u001b[37mOAK cat2lbl2data_input_text\u001b[0m \u001b[37m: [['Mountaineering', 'Physical geography', 'Topography'], [], [], ['Mountains of North America by country', 'Mountains by country', 'Mountains of North America', 'Landforms of the United States', 'Tourist attractions in the United States'], [], [], [], ['Mountains of Montana', 'Rocky Mountains', 'Lists of mountains of the United States', 'Lists of mountains by elevation', 'Lists of mountains by prominence', 'Lists of mountains by isolation', 'Lists of landforms of Montana', 'Lists of mountains of Montana'], ['Mountains of Nevada', 'Lists of mountains of the United States', 'Lists of mountains by elevation', 'Lists of mountains by prominence', 'Lists of landforms of Nevada', 'Lists of mountains by isolation'], ['Mountains of Wyoming', 'Rocky Mountains', 'Lists of mountains of the United States', 'Lists of mountains by elevation', 'Lists of mountains by prominence', 'Lists of mountains by isolation', 'Lists of landforms of Wyoming']]\u001b[0m\n",
      "\u001b[5m\u001b[7m\u001b[37mGT cat2lbl2data_input_text\u001b[0m \u001b[37m: [['Geography of the United States'], ['Lists of mountains by country', 'Mountains of Greenland', 'Geography of Greenland', 'Lists of mountains by elevation', 'Lists of mountains by prominence', 'Lists of mountains by isolation', 'Lists of landforms of Greenland'], ['Mountains of North America', 'Geography of North America', 'Lists of mountains by elevation', 'North America-related lists', 'Lists of mountains by prominence', 'Lists of mountains by continent', 'Lists of mountains by isolation'], [], ['Physical geography', 'Branches of geography', 'Earth sciences'], ['Rocky Mountains', 'Mountains of North America', 'Lists of mountains of the United States', 'Lists of mountains by elevation', 'Lists of mountains by prominence', 'Lists of mountains by range', 'Lists of mountains by isolation', 'Lists of mountains of Canada'], ['Lists of mountains of the United States', 'Lists of mountains by elevation', 'Lists of mountains by prominence', 'Mountains of California', 'Lists of landforms of California', 'Lists of mountains by isolation'], ['Mountains of Alaska', 'Lists of mountains of the United States', 'Lists of mountains by elevation', 'Lists of landforms of Alaska', 'Lists of mountains by prominence', 'Lists of mountains by isolation'], [], ['Mountaineering', 'Physical geography', 'Topography'], ['Mountains of Colorado', 'Rocky Mountains', 'Lists of mountains of the United States', 'Lists of mountains by elevation', 'Lists of mountains by prominence', 'Lists of landforms of Colorado', 'Lists of mountains by isolation'], [], ['Mountains of North America by country', 'Mountains by country', 'Mountains of North America', 'Landforms of the United States', 'Tourist attractions in the United States'], [], ['Cartography', 'Topography'], [], [], ['Mountains of Montana', 'Rocky Mountains', 'Lists of mountains of the United States', 'Lists of mountains by elevation', 'Lists of mountains by prominence', 'Lists of mountains by isolation', 'Lists of landforms of Montana', 'Lists of mountains of Montana'], ['Mountains of Nevada', 'Lists of mountains of the United States', 'Lists of mountains by elevation', 'Lists of mountains by prominence', 'Lists of landforms of Nevada', 'Lists of mountains by isolation'], ['Rocky Mountains', 'Mountains of Utah', 'Lists of mountains of the United States', 'Lists of mountains by elevation', 'Lists of mountains by prominence', 'Lists of mountains by isolation', 'Lists of landforms of Utah'], ['Mountains of Washington (state)', 'Lists of mountains of the United States', 'Lists of mountains by elevation', 'Lists of mountains by prominence', 'Lists of landforms of Washington (state)', 'Lists of mountains by isolation'], ['Mountains of Wyoming', 'Rocky Mountains', 'Lists of mountains of the United States', 'Lists of mountains by elevation', 'Lists of mountains by prominence', 'Lists of mountains by isolation', 'Lists of landforms of Wyoming'], [], ['Geography of Central America', 'Lists of mountains by elevation', 'Central America-related lists', 'Lists of mountains by prominence', 'Lists of mountains by isolation', 'Mountains of Central America'], ['Geography of the Caribbean', 'Mountains of the Caribbean', 'Lists of mountains by elevation', 'Lists of mountains by prominence', 'Caribbean-related lists', 'Lists of mountains by isolation'], ['Geology of North America', 'Geology of the United States', 'Geology by country'], [], ['Mountaineering', 'Physical geography', 'Topography', 'Lists of mountains by isolation'], []]\u001b[0m\n",
      "\n",
      "\u001b[5m\u001b[7m\u001b[90mOAK data_input_text\u001b[0m \u001b[90m: Sakshi (novel)\u001b[0m\n",
      "\u001b[5m\u001b[7m\u001b[90mGT data_input_text\u001b[0m \u001b[90m: Sakshi (novel)\u001b[0m\n",
      "\u001b[5m\u001b[7m\u001b[92mOAK lbl2data_input_text\u001b[0m \u001b[92m: ['Bheemakaaya', 'Dharmashree', 'Doora saridaru', 'Matadana', 'Naayi Neralu', 'Daatu', 'Sakshi', 'Tantu', 'Aavarana', 'Bhitti']\u001b[0m\n",
      "\u001b[5m\u001b[7m\u001b[92mGT lbl2data_input_text\u001b[0m \u001b[92m: ['Bheemakaaya', 'Dharmashree', 'Doora saridaru', 'Matadana', 'Naayi Neralu', 'Tabbaliyu Neenade Magane', 'Gruhabhanga', 'Nirakarana', 'Grahana', 'Daatu', 'Anveshana', 'Nele', 'Anchu', 'Tantu', 'Saartha', 'Mandra', 'Aavarana', 'Kavalu', 'Yaana', 'Uttarakaanda', 'Bhitti', 'Parva']\u001b[0m\n",
      "\u001b[5m\u001b[7m\u001b[34mOAK cat2data_input_text\u001b[0m \u001b[34m: ['Kannada novels', '1986 novels']\u001b[0m\n",
      "\u001b[5m\u001b[7m\u001b[34mGT cat2data_input_text\u001b[0m \u001b[34m: ['Kannada novels', '1986 novels']\u001b[0m\n",
      "\u001b[5m\u001b[7m\u001b[37mOAK cat2lbl2data_input_text\u001b[0m \u001b[37m: [['Kannada novels', '20th-century Indian novels', '1952 novels', '1952 Indian novels'], ['Kannada novels', '1961 novels', '1961 Indian novels'], [], ['Kannada novels', '1965 novels', 'Indian novels adapted into films', '1965 Indian novels'], ['Indian films', 'Kannada literature', '2000s Kannada-language films', 'Films directed by Girish Kasaravalli'], ['Kannada novels', '20th-century Indian novels', '1973 novels', '1973 Indian novels'], [], ['Kannada novels', '1993 novels', '1993 Indian novels'], ['Kannada novels', '2007 Indian novels'], ['1996 books', 'Kannada novels', 'Indian biographies', 'Indian autobiographies', '21st-century Indian books', '20th-century Indian novels']]\u001b[0m\n",
      "\u001b[5m\u001b[7m\u001b[37mGT cat2lbl2data_input_text\u001b[0m \u001b[37m: [['Kannada novels', '20th-century Indian novels', '1952 novels', '1952 Indian novels'], ['Kannada novels', '1961 novels', '1961 Indian novels'], [], ['Kannada novels', '1965 novels', 'Indian novels adapted into films', '1965 Indian novels'], ['Indian films', 'Kannada literature', '2000s Kannada-language films', 'Films directed by Girish Kasaravalli'], ['Indian films', '1977 films', '1970s Kannada-language films', 'Kannada literature', 'Best Kannada Feature Film National Film Award winners'], ['Novels adapted into television programs', 'Kannada novels', '1970 novels', '1970 Indian novels'], ['Kannada novels'], ['Directorial debut films', 'Indian films', '1978 films', 'Films whose writer won the Best Original Screenplay National Film Award', '1970s Kannada-language films', 'Kannada film scores by Vijaya Bhaskar', 'Best Film on National Integration National Film Award winners', 'Films directed by T. S. Nagabharana'], ['Kannada novels', '20th-century Indian novels', '1973 novels', '1973 Indian novels'], ['Indian films', '1980s thriller films', '1985 films', 'Films set in forests', 'Indian thriller films', 'Tamil-language films', 'Telugu-language films', 'Telugu film scores by Ilaiyaraaja', 'Telugu-language films dubbed in Tamil', '1980s Telugu-language films', '1980s Tamil-language films', 'Films directed by Vamsy', 'Multilingual films'], ['Populated places in Solukhumbu District'], [], ['Kannada novels', '1993 novels', '1993 Indian novels'], ['Kannada novels', '1998 novels', '20th-century Indian novels'], [], ['Kannada novels', '2007 Indian novels'], ['Kannada novels', '2010 Indian novels'], [], [], ['1996 books', 'Kannada novels', 'Indian biographies', 'Indian autobiographies', '21st-century Indian books', '20th-century Indian novels'], []]\u001b[0m\n",
      "\n",
      "\u001b[5m\u001b[7m\u001b[90mOAK data_input_text\u001b[0m \u001b[90m: Haplogroup C-M130\u001b[0m\n",
      "\u001b[5m\u001b[7m\u001b[90mGT data_input_text\u001b[0m \u001b[90m: Haplogroup C-M130\u001b[0m\n",
      "\u001b[5m\u001b[7m\u001b[92mOAK lbl2data_input_text\u001b[0m \u001b[92m: ['Mega-Haplogroup CT', 'C-M208', 'C-M210', 'C-M216', 'C-M217', 'C-M38', 'C-M8', 'C-M93', 'C-P33', 'C-M130']\u001b[0m\n",
      "\u001b[5m\u001b[7m\u001b[92mGT lbl2data_input_text\u001b[0m \u001b[92m: ['Subclade', 'Haplotype', 'Y-chromosome haplogroups in populations of the world', 'Y-DNA haplogroups in populations of East and Southeast Asia', 'Haplogroup', 'Y-DNA haplogroups by ethnic group', 'Human Y-chromosome DNA haplogroup', 'Paragroup', 'genetic genealogy', 'molecular phylogeny', 'Y-DNA haplogroups in populations of Oceania', 'Mega-Haplogroup CF', 'Mega-Haplogroup CT', 'C-M208', 'C-M210', 'C-M216', 'C-M217', 'C-M38', 'C-M8', 'C-M93', 'C-P33', 'C-P44']\u001b[0m\n",
      "\u001b[5m\u001b[7m\u001b[34mOAK cat2data_input_text\u001b[0m \u001b[34m: ['Human Y-DNA haplogroups']\u001b[0m\n",
      "\u001b[5m\u001b[7m\u001b[34mGT cat2data_input_text\u001b[0m \u001b[34m: ['Human Y-DNA haplogroups']\u001b[0m\n",
      "\u001b[5m\u001b[7m\u001b[37mOAK cat2lbl2data_input_text\u001b[0m \u001b[37m: [[], [], [], [], [], [], [], [], [], []]\u001b[0m\n",
      "\u001b[5m\u001b[7m\u001b[37mGT cat2lbl2data_input_text\u001b[0m \u001b[37m: [['Genetic genealogy', 'Genetics'], ['Genetic genealogy', 'Classical genetics', 'Population genetics'], [], ['Human Y-DNA haplogroup population frequencies'], ['DNA', 'Classical genetics', 'Population genetics', 'Human evolution', 'Phylogenetics'], ['Genetic genealogy', 'Genetics', 'Race (human categorization)', 'Human Y-DNA haplogroups', 'Ethnic groups'], ['Human Y-DNA haplogroups'], ['Genetic genealogy', 'Human haplogroups'], [], [], ['Human Y-DNA haplogroup population frequencies'], [], [], [], [], [], [], [], [], [], [], []]\u001b[0m\n",
      "\n",
      "\u001b[5m\u001b[7m\u001b[90mOAK data_input_text\u001b[0m \u001b[90m: Yaana (novel)\u001b[0m\n",
      "\u001b[5m\u001b[7m\u001b[90mGT data_input_text\u001b[0m \u001b[90m: Yaana (novel)\u001b[0m\n",
      "\u001b[5m\u001b[7m\u001b[92mOAK lbl2data_input_text\u001b[0m \u001b[92m: ['Doora saridaru', 'Matadana', 'Gruhabhanga', 'Nirakarana', 'Daatu', 'Nele', 'Tantu', 'Kavalu', 'Yaana', 'Bhitti']\u001b[0m\n",
      "\u001b[5m\u001b[7m\u001b[92mGT lbl2data_input_text\u001b[0m \u001b[92m: ['Bheemakaaya', 'Dharmashree', 'Doora saridaru', 'Matadana', 'Naayi Neralu', 'Tabbaliyu Neenade Magane', 'Gruhabhanga', 'Nirakarana', 'Grahana', 'Daatu', 'Anveshana', 'Nele', 'Sakshi', 'Anchu', 'Tantu', 'Saartha', 'Mandra', 'Aavarana', 'Kavalu', 'Uttarakaanda', 'Bhitti', 'Parva']\u001b[0m\n",
      "\u001b[5m\u001b[7m\u001b[34mOAK cat2data_input_text\u001b[0m \u001b[34m: ['Kannada novels', 'Proxima Centauri in fiction']\u001b[0m\n",
      "\u001b[5m\u001b[7m\u001b[34mGT cat2data_input_text\u001b[0m \u001b[34m: ['Kannada novels', 'Proxima Centauri in fiction']\u001b[0m\n",
      "\u001b[5m\u001b[7m\u001b[37mOAK cat2lbl2data_input_text\u001b[0m \u001b[37m: [[], ['Kannada novels', '1965 novels', 'Indian novels adapted into films', '1965 Indian novels'], ['Novels adapted into television programs', 'Kannada novels', '1970 novels', '1970 Indian novels'], ['Kannada novels'], ['Kannada novels', '20th-century Indian novels', '1973 novels', '1973 Indian novels'], ['Populated places in Solukhumbu District'], ['Kannada novels', '1993 novels', '1993 Indian novels'], ['Kannada novels', '2010 Indian novels'], [], ['1996 books', 'Kannada novels', 'Indian biographies', 'Indian autobiographies', '21st-century Indian books', '20th-century Indian novels']]\u001b[0m\n",
      "\u001b[5m\u001b[7m\u001b[37mGT cat2lbl2data_input_text\u001b[0m \u001b[37m: [['Kannada novels', '20th-century Indian novels', '1952 novels', '1952 Indian novels'], ['Kannada novels', '1961 novels', '1961 Indian novels'], [], ['Kannada novels', '1965 novels', 'Indian novels adapted into films', '1965 Indian novels'], ['Indian films', 'Kannada literature', '2000s Kannada-language films', 'Films directed by Girish Kasaravalli'], ['Indian films', '1977 films', '1970s Kannada-language films', 'Kannada literature', 'Best Kannada Feature Film National Film Award winners'], ['Novels adapted into television programs', 'Kannada novels', '1970 novels', '1970 Indian novels'], ['Kannada novels'], ['Directorial debut films', 'Indian films', '1978 films', 'Films whose writer won the Best Original Screenplay National Film Award', '1970s Kannada-language films', 'Kannada film scores by Vijaya Bhaskar', 'Best Film on National Integration National Film Award winners', 'Films directed by T. S. Nagabharana'], ['Kannada novels', '20th-century Indian novels', '1973 novels', '1973 Indian novels'], ['Indian films', '1980s thriller films', '1985 films', 'Films set in forests', 'Indian thriller films', 'Tamil-language films', 'Telugu-language films', 'Telugu film scores by Ilaiyaraaja', 'Telugu-language films dubbed in Tamil', '1980s Telugu-language films', '1980s Tamil-language films', 'Films directed by Vamsy', 'Multilingual films'], ['Populated places in Solukhumbu District'], [], [], ['Kannada novels', '1993 novels', '1993 Indian novels'], ['Kannada novels', '1998 novels', '20th-century Indian novels'], [], ['Kannada novels', '2007 Indian novels'], ['Kannada novels', '2010 Indian novels'], [], ['1996 books', 'Kannada novels', 'Indian biographies', 'Indian autobiographies', '21st-century Indian books', '20th-century Indian novels'], []]\u001b[0m\n",
      "\n",
      "\u001b[5m\u001b[7m\u001b[90mOAK data_input_text\u001b[0m \u001b[90m: Nele (novel)\u001b[0m\n",
      "\u001b[5m\u001b[7m\u001b[90mGT data_input_text\u001b[0m \u001b[90m: Nele (novel)\u001b[0m\n",
      "\u001b[5m\u001b[7m\u001b[92mOAK lbl2data_input_text\u001b[0m \u001b[92m: ['Bheemakaaya', 'Dharmashree', 'Doora saridaru', 'Gruhabhanga', 'Daatu', 'Nele', 'Sakshi', 'Tantu', 'Saartha', 'Yaana']\u001b[0m\n",
      "\u001b[5m\u001b[7m\u001b[92mGT lbl2data_input_text\u001b[0m \u001b[92m: ['Bheemakaaya', 'Dharmashree', 'Doora saridaru', 'Matadana', 'Naayi Neralu', 'Tabbaliyu Neenade Magane', 'Gruhabhanga', 'Nirakarana', 'Grahana', 'Daatu', 'Anveshana', 'Sakshi', 'Anchu', 'Tantu', 'Saartha', 'Mandra', 'Aavarana', 'Kavalu', 'Yaana', 'Uttarakaanda', 'Bhitti', 'Parva']\u001b[0m\n",
      "\u001b[5m\u001b[7m\u001b[34mOAK cat2data_input_text\u001b[0m \u001b[34m: ['Kannada novels', 'Philosophical novels', '20th-century Indian novels']\u001b[0m\n",
      "\u001b[5m\u001b[7m\u001b[34mGT cat2data_input_text\u001b[0m \u001b[34m: ['Kannada novels', 'Philosophical novels', '20th-century Indian novels']\u001b[0m\n",
      "\u001b[5m\u001b[7m\u001b[37mOAK cat2lbl2data_input_text\u001b[0m \u001b[37m: [['Kannada novels', '20th-century Indian novels', '1952 novels', '1952 Indian novels'], ['Kannada novels', '1961 novels', '1961 Indian novels'], [], ['Novels adapted into television programs', 'Kannada novels', '1970 novels', '1970 Indian novels'], ['Kannada novels', '20th-century Indian novels', '1973 novels', '1973 Indian novels'], ['Populated places in Solukhumbu District'], [], ['Kannada novels', '1993 novels', '1993 Indian novels'], ['Kannada novels', '1998 novels', '20th-century Indian novels'], []]\u001b[0m\n",
      "\u001b[5m\u001b[7m\u001b[37mGT cat2lbl2data_input_text\u001b[0m \u001b[37m: [['Kannada novels', '20th-century Indian novels', '1952 novels', '1952 Indian novels'], ['Kannada novels', '1961 novels', '1961 Indian novels'], [], ['Kannada novels', '1965 novels', 'Indian novels adapted into films', '1965 Indian novels'], ['Indian films', 'Kannada literature', '2000s Kannada-language films', 'Films directed by Girish Kasaravalli'], ['Indian films', '1977 films', '1970s Kannada-language films', 'Kannada literature', 'Best Kannada Feature Film National Film Award winners'], ['Novels adapted into television programs', 'Kannada novels', '1970 novels', '1970 Indian novels'], ['Kannada novels'], ['Directorial debut films', 'Indian films', '1978 films', 'Films whose writer won the Best Original Screenplay National Film Award', '1970s Kannada-language films', 'Kannada film scores by Vijaya Bhaskar', 'Best Film on National Integration National Film Award winners', 'Films directed by T. S. Nagabharana'], ['Kannada novels', '20th-century Indian novels', '1973 novels', '1973 Indian novels'], ['Indian films', '1980s thriller films', '1985 films', 'Films set in forests', 'Indian thriller films', 'Tamil-language films', 'Telugu-language films', 'Telugu film scores by Ilaiyaraaja', 'Telugu-language films dubbed in Tamil', '1980s Telugu-language films', '1980s Tamil-language films', 'Films directed by Vamsy', 'Multilingual films'], [], [], ['Kannada novels', '1993 novels', '1993 Indian novels'], ['Kannada novels', '1998 novels', '20th-century Indian novels'], [], ['Kannada novels', '2007 Indian novels'], ['Kannada novels', '2010 Indian novels'], [], [], ['1996 books', 'Kannada novels', 'Indian biographies', 'Indian autobiographies', '21st-century Indian books', '20th-century Indian novels'], []]\u001b[0m\n",
      "\n",
      "\u001b[5m\u001b[7m\u001b[90mOAK data_input_text\u001b[0m \u001b[90m: Template:COE profile/doc\u001b[0m\n",
      "\u001b[5m\u001b[7m\u001b[90mGT data_input_text\u001b[0m \u001b[90m: Template:COE profile/doc\u001b[0m\n",
      "\u001b[5m\u001b[7m\u001b[92mOAK lbl2data_input_text\u001b[0m \u001b[92m: ['Team GB', 'AOC profile', 'BOC profile', 'COA profile', 'COE profile', 'COV profile', 'DOSB profile', 'LOK profile', 'NZOC profile', 'SOK profile']\u001b[0m\n",
      "\u001b[5m\u001b[7m\u001b[92mGT lbl2data_input_text\u001b[0m \u001b[92m: ['International Olympic Committee', 'New Zealand Olympic Committee', 'Brazilian Olympic Committee', 'Australian Olympic Committee', 'United States Olympic Committee', \"''ComitÃ\\x83Â© National Olympique et Sportif FranÃ\\x83Â§ais''\", \"''ComitÃ\\x83Â© OlÃ\\x83Â\\xadmpico Argentino''\", 'Canadian Olympic Committee', \"''Comitato Olimpico Nazionale Italiano''\", \"''Comitetul Olimpic Ã\\x88Â\\x99i Sportiv RomÃ\\x83Â¢n''\", \"''Ã\\x84Â\\x8ceskÃ\\x83Â½ olympijskÃ\\x83Â½ vÃ\\x83Â½bor''\", \"''Deutscher Olympischer Sportbund''\", \"''Latvijas OlimpiskÃ\\x84Â\\x81 Komiteja''\", \"''Magyar Olimpiai BizottsÃ\\x83Â¡g''\", \"''Sveriges Olympiska KommittÃ\\x83Â©''\", 'Team GB', 'IOC profile', 'AOC profile', 'BOC profile', 'CNOSF profile', 'COA profile', 'COC profile', 'CONI profile', 'COSR profile', 'COV profile', 'DOSB profile', 'LOK profile', 'MOB profile', 'NZOC profile', 'SOK profile', 'USOC profile']\u001b[0m\n",
      "\u001b[5m\u001b[7m\u001b[34mOAK cat2data_input_text\u001b[0m \u001b[34m: ['People and person external link templates', 'Olympics external link templates']\u001b[0m\n",
      "\u001b[5m\u001b[7m\u001b[34mGT cat2data_input_text\u001b[0m \u001b[34m: ['People and person external link templates', 'Olympics external link templates']\u001b[0m\n",
      "\u001b[5m\u001b[7m\u001b[37mOAK cat2lbl2data_input_text\u001b[0m \u001b[37m: [['Great Britain at the Olympics', 'British brands', '1999 introductions'], [], [], [], [], [], [], [], [], []]\u001b[0m\n",
      "\u001b[5m\u001b[7m\u001b[37mGT cat2lbl2data_input_text\u001b[0m \u001b[37m: [['Olympic organizations', 'Supraorganizations', 'United Nations General Assembly observers', 'International Olympic Committee', 'International sports bodies based in Switzerland', 'Organisations based in Lausanne', 'International sports organizations', '1894 establishments in Switzerland', 'Sports organisations established in 1894'], ['National Olympic Committees', 'Sports governing bodies in New Zealand', 'Commonwealth Games Associations', '1911 establishments in New Zealand', 'Sports organisations established in 1911', 'New Zealand at the Olympics'], ['National Olympic Committees', 'Sports governing bodies in Brazil', 'Sports organisations established in 1914', 'Brazil at the Olympics', '1914 establishments in Brazil'], ['1914 establishments in Australia', 'National Olympic Committees', 'Sports governing bodies in Australia', 'Sport in Australia', 'Australia at the Olympics', 'Sports organisations established in 1914'], ['Organizations based in Colorado Springs, Colorado', 'Patriotic and national organizations chartered by the United States Congress', 'Sports governing bodies in the United States', 'Disability organizations based in the United States', 'National Paralympic Committees', 'United States at the Olympics', 'Sports organisations established in 1894', 'Sports in Colorado Springs, Colorado', '1894 establishments in the United States', 'United States Olympic Committee', 'United States at the Paralympics'], [], [], ['Organizations based in Toronto', 'Sports governing bodies in Canada', 'National Olympic Committees', 'Sports organisations established in 1904', 'Canada at the Olympics', '1904 establishments in Ontario'], [], [], [], [], [], [], [], ['Great Britain at the Olympics', 'British brands', '1999 introductions'], [], [], [], [], [], [], [], [], [], [], [], [], [], [], []]\u001b[0m\n",
      "\n",
      "\u001b[5m\u001b[7m\u001b[90mOAK data_input_text\u001b[0m \u001b[90m: List of Australasian boxing champions\u001b[0m\n",
      "\u001b[5m\u001b[7m\u001b[90mGT data_input_text\u001b[0m \u001b[90m: List of Australasian boxing champions\u001b[0m\n",
      "\u001b[5m\u001b[7m\u001b[92mOAK lbl2data_input_text\u001b[0m \u001b[92m: ['List of New Zealand middleweight boxing champions', 'List of Australasian Boxing Champions', 'List of New Zealand light heavyweight boxing champions', 'List of New Zealand super middleweight boxing champions', 'List of New Zealand super welterweight boxing champions', 'List of New Zealand welterweight boxing champions', 'List of New Zealand lightweight boxing champions', 'List of New Zealand super featherweight boxing champions', 'List of New Zealand featherweight boxing champions', 'List of New Zealand heavyweight boxing champions']\u001b[0m\n",
      "\u001b[5m\u001b[7m\u001b[92mGT lbl2data_input_text\u001b[0m \u001b[92m: ['List of Australian cruiserweight boxing champions', 'List of New Zealand cruiserweight boxing champions', 'Boxing in Australia', 'List of Australian middleweight boxing champions', 'List of New Zealand middleweight boxing champions', 'List of Australian female boxing champions', 'List of Australian light heavyweight boxing champions', 'List of Australian super middleweight boxing champions', 'List of Australian super welterweight boxing champions', 'List of Australian welterweight boxing champions', 'List of Australian super lightweight boxing champions', 'List of Australian lightweight boxing champions', 'List of Australian super featherweight boxing champions', 'List of Australian featherweight boxing champions', 'List of Australian bantamweight boxing champions', 'Professional boxing in New Zealand', 'List of Australian heavyweight boxing champions', 'List of New Zealand female boxing champions', 'List of New Zealand light heavyweight boxing champions', 'List of New Zealand super middleweight boxing champions', 'List of New Zealand super welterweight boxing champions', 'List of New Zealand welterweight boxing champions', 'List of New Zealand super lightweight boxing champions', 'List of New Zealand lightweight boxing champions', 'List of New Zealand super featherweight boxing champions', 'List of New Zealand featherweight boxing champions', 'List of New Zealand bantamweight boxing champions', 'List of New Zealand heavyweight boxing champions']\u001b[0m\n",
      "\u001b[5m\u001b[7m\u001b[34mOAK cat2data_input_text\u001b[0m \u001b[34m: ['Boxing in Australia', 'Boxing in New Zealand', 'Lists of Australian professional boxing champions']\u001b[0m\n",
      "\u001b[5m\u001b[7m\u001b[34mGT cat2data_input_text\u001b[0m \u001b[34m: ['Boxing in Australia', 'Boxing in New Zealand', 'Lists of Australian professional boxing champions']\u001b[0m\n",
      "\u001b[5m\u001b[7m\u001b[37mOAK cat2lbl2data_input_text\u001b[0m \u001b[37m: [['Middleweight boxers', 'Lists of New Zealand professional boxing champions'], [], ['Light-heavyweight boxers', 'Lists of New Zealand professional boxing champions'], ['Super-middleweight boxers', 'Lists of New Zealand professional boxing champions'], ['Lists of New Zealand professional boxing champions'], ['Welterweight boxers', 'Lists of New Zealand professional boxing champions'], ['Lightweight boxers', 'Lists of New Zealand professional boxing champions'], [], ['Featherweight boxers', 'Lists of New Zealand professional boxing champions'], ['Heavyweight boxers', 'Lists of New Zealand professional boxing champions']]\u001b[0m\n",
      "\u001b[5m\u001b[7m\u001b[37mGT cat2lbl2data_input_text\u001b[0m \u001b[37m: [['Cruiserweight boxers', 'Australian boxers', 'Lists of Australian professional boxing champions', 'Incomplete sports result lists', 'Incomplete sports lists'], ['Cruiserweight boxers', 'Lists of New Zealand professional boxing champions'], ['Boxing in Australia'], ['Middleweight boxers', 'Boxing articles needing attention', 'Australian boxers', 'Lists of Australian professional boxing champions', 'Incomplete sports result lists', 'Incomplete sports lists'], ['Middleweight boxers', 'Lists of New Zealand professional boxing champions'], ['Australian women boxers', 'Lists of Australian sportswomen', 'Australian boxers', 'Lists of Australian professional boxing champions', 'Lists of women boxers'], [], [], [], [], [], [], [], [], [], ['Boxing in New Zealand', 'Sport in New Zealand'], ['Heavyweight boxers', 'Australian boxers', 'Lists of Australian professional boxing champions'], ['Lists of women boxers', 'Lists of New Zealand professional boxing champions', 'New Zealand women boxers', 'Lists of New Zealand sportswomen'], ['Light-heavyweight boxers', 'Lists of New Zealand professional boxing champions'], ['Super-middleweight boxers', 'Lists of New Zealand professional boxing champions'], ['Lists of New Zealand professional boxing champions'], ['Welterweight boxers', 'Lists of New Zealand professional boxing champions'], ['Light-welterweight boxers', 'Lists of New Zealand professional boxing champions'], ['Lightweight boxers', 'Lists of New Zealand professional boxing champions'], [], ['Featherweight boxers', 'Lists of New Zealand professional boxing champions'], ['Bantamweight boxers', 'Lists of New Zealand professional boxing champions'], ['Heavyweight boxers', 'Lists of New Zealand professional boxing champions']]\u001b[0m\n",
      "\n",
      "\u001b[5m\u001b[7m\u001b[90mOAK data_input_text\u001b[0m \u001b[90m: List of Afro-Latinos\u001b[0m\n",
      "\u001b[5m\u001b[7m\u001b[90mGT data_input_text\u001b[0m \u001b[90m: List of Afro-Latinos\u001b[0m\n",
      "\u001b[5m\u001b[7m\u001b[92mOAK lbl2data_input_text\u001b[0m \u001b[92m: ['Black Hispanic and Latino Americans', 'Afro-Latin American', 'Afro-Mexican', 'Afro-Latin Americans', 'Afro-American peoples of the Americas', 'Afro-Ecuadorian', 'Afro-Latino', 'List of Afro-Latinos', 'Afro-Latinos', 'List of Famous Afro-Latinos']\u001b[0m\n",
      "\u001b[5m\u001b[7m\u001b[92mGT lbl2data_input_text\u001b[0m \u001b[92m: ['African diaspora', 'List of topics related to Black and African people', 'Afro-Latin American', 'Afro-Cuban', 'Afro-Mexican', 'African diaspora in the Americas', 'Afro-Uruguayan', 'Afro-Argentine', 'Afro-Bolivian', 'Afro-Brazilian', 'Afro-Colombian', 'Afro-Costa Rican', 'Afro-Ecuadorian', 'Afro-Haitian', 'Afro-Nicaraguan', 'Afro-Panamanian', 'Afro-Peruvian', 'Afro-Puerto Rican', 'Afro-Salvadoran', 'Afro-Venezuelan', 'Afro-Dominican']\u001b[0m\n",
      "\u001b[5m\u001b[7m\u001b[34mOAK cat2data_input_text\u001b[0m \u001b[34m: ['Ethnic groups in the Caribbean', 'Ethnic groups in Central America', 'Ethnic groups in Latin America']\u001b[0m\n",
      "\u001b[5m\u001b[7m\u001b[34mGT cat2data_input_text\u001b[0m \u001b[34m: ['Ethnic groups in the Caribbean', 'Ethnic groups in Central America', 'Ethnic groups in Latin America']\u001b[0m\n",
      "\u001b[5m\u001b[7m\u001b[37mOAK cat2lbl2data_input_text\u001b[0m \u001b[37m: [['Africanâ\\x80\\x93Hispanic and Latino American relations', 'Immigration to the United States', 'Ethnic groups in the United States', 'People of African descent', 'Hispanic and Latino American people', 'Hispanic and Latino American', 'American people by ethnic or national origin', 'Latino diaspora'], [], [], ['Afro-Latin American', 'Ethnic groups in the Caribbean', 'Ethnic groups in Central America', 'Ethnic groups in Latin America', 'Ethnic groups in North America', 'Ethnic groups in South America'], [], ['People of African descent', 'Afro-Ecuadorian', 'Ecuadorian people of African descent', 'Ethnic groups in Ecuador'], [], ['Ethnic groups in the Caribbean', 'Ethnic groups in Central America', 'Ethnic groups in Latin America', 'Ethnic groups in North America', 'Ethnic groups in South America', 'Latin American people of African descent', 'Lists of people by ethnicity', 'Lists of black people'], [], []]\u001b[0m\n",
      "\u001b[5m\u001b[7m\u001b[37mGT cat2lbl2data_input_text\u001b[0m \u001b[37m: [['African diaspora', 'Slavery in North America', 'Slavery in South America'], [], [], ['Cuban people of African descent', 'People of African descent', 'Afro-Caribbean', 'Afro-Cuban', 'Cuban society', 'Ethnic groups in Cuba'], [], ['People of African descent', 'Slavery in North America', 'Slavery in South America', 'African diaspora in North America', 'African diaspora in South America', 'Ethnic groups in the Americas'], [], [], ['People of African descent', 'Afro-Bolivian', 'Bolivian people of African descent', 'La Paz Department (Bolivia)', 'Ethnic groups in Bolivia'], [], [], [], ['People of African descent', 'Afro-Ecuadorian', 'Ecuadorian people of African descent', 'Ethnic groups in Ecuador'], [], ['People of African descent', 'Afro-Nicaraguan', 'Ethnic groups in Nicaragua', 'Nicaraguan people of African descent'], ['People of African descent', 'Afro-Panamanian', 'Ethnic groups in Panama', 'Panamanian people of African descent'], ['People of African descent', 'Afro-Peruvian', 'Ethnic groups in Peru', 'Peruvian people of African descent'], [], ['People of African descent', 'Ethnic groups in El Salvador', 'Afro-Central American', 'Salvadoran people of African descent'], ['People of African descent', 'Afro-Venezuelan', 'Ethnic groups in Venezuela', 'Venezuelan people of African descent'], []]\u001b[0m\n",
      "\n",
      "\u001b[5m\u001b[7m\u001b[90mOAK data_input_text\u001b[0m \u001b[90m: List of the major 3000-meter summits of North America\u001b[0m\n",
      "\u001b[5m\u001b[7m\u001b[90mGT data_input_text\u001b[0m \u001b[90m: List of the major 3000-meter summits of North America\u001b[0m\n",
      "\u001b[5m\u001b[7m\u001b[92mOAK lbl2data_input_text\u001b[0m \u001b[92m: ['topographic elevation', 'List of ultra-prominent summits of North America', 'List of the most prominent summits of Central America', 'List of the highest islands of North America', 'Table of the highest major summits of North America', 'List of the highest major summits of North America', 'Lists of mountain peaks of North America', 'Mountains of North America', 'commons:Mountains of North America', 'Table of the most isolated major summits of North America']\u001b[0m\n",
      "\u001b[5m\u001b[7m\u001b[92mGT lbl2data_input_text\u001b[0m \u001b[92m: ['North America', 'List of mountain peaks of Greenland', 'List of mountain peaks of Canada', 'List of mountain peaks of the United States', 'Physical geography', 'List of mountain peaks of the Rocky Mountains', 'Geology of North America', 'Topographic prominence', 'Topography', 'List of mountain peaks of MÃ\\x83Â©xico', 'List of mountain peaks of Central America', 'List of mountain peaks of the Caribbean', 'Topographic elevation', 'Topographic isolation', 'Geography of North America', 'List of the highest islands of North America', 'List of the most prominent summits of North America', 'Lists of mountain peaks of North America', 'List of the ultra-prominent summits of North America', 'Mountains of North America', 'commons:Mountains of North America']\u001b[0m\n",
      "\u001b[5m\u001b[7m\u001b[34mOAK cat2data_input_text\u001b[0m \u001b[34m: ['Mountains of North America', 'Geography of North America', 'Lists of mountains by elevation']\u001b[0m\n",
      "\u001b[5m\u001b[7m\u001b[34mGT cat2data_input_text\u001b[0m \u001b[34m: ['Mountains of North America', 'Geography of North America', 'Lists of mountains by elevation']\u001b[0m\n",
      "\u001b[5m\u001b[7m\u001b[37mOAK cat2lbl2data_input_text\u001b[0m \u001b[37m: [[], [], [], ['Mountains of North America', 'Geography of North America', 'Lists of mountains by elevation', 'North America-related lists'], [], ['Mountains of North America', 'Geography of North America', 'North America-related lists'], [], ['Landforms of North America', 'Mountains by continent'], [], []]\u001b[0m\n",
      "\u001b[5m\u001b[7m\u001b[37mGT cat2lbl2data_input_text\u001b[0m \u001b[37m: [['Continents', 'North America'], ['Lists of mountains by country', 'Mountains of Greenland', 'Geography of Greenland', 'Lists of mountains by elevation', 'Lists of mountains by prominence', 'Lists of mountains by isolation', 'Lists of landforms of Greenland'], [], ['Lists of mountains by country', 'Mountains of the United States', 'Lists of mountains of the United States', 'Lists of landforms of the United States', 'Lists of mountains by elevation', 'Lists of mountains by prominence', 'Lists of mountains by isolation'], ['Physical geography', 'Branches of geography', 'Earth sciences'], ['Rocky Mountains', 'Mountains of North America', 'Lists of mountains of the United States', 'Lists of mountains by elevation', 'Lists of mountains by prominence', 'Lists of mountains by range', 'Lists of mountains by isolation', 'Lists of mountains of Canada'], ['Geology of North America', 'Regional geology'], ['Mountaineering', 'Physical geography', 'Topography'], ['Cartography', 'Topography'], [], ['Geography of Central America', 'Lists of mountains by elevation', 'Central America-related lists', 'Lists of mountains by prominence', 'Lists of mountains by isolation', 'Mountains of Central America'], ['Geography of the Caribbean', 'Mountains of the Caribbean', 'Lists of mountains by elevation', 'Lists of mountains by prominence', 'Caribbean-related lists', 'Lists of mountains by isolation'], [], ['Mountaineering', 'Physical geography', 'Topography', 'Lists of mountains by isolation'], ['Geography of North America', 'Water in North America'], ['Mountains of North America', 'Geography of North America', 'Lists of mountains by elevation', 'North America-related lists'], [], [], [], ['Landforms of North America', 'Mountains by continent'], []]\u001b[0m\n",
      "\n"
     ]
    }
   ],
   "source": [
    "disp = CompareDataset(pred_block_2, gt_dset, 'OAK', 'GT')\n",
    "disp.show(idxs[:10])"
   ]
  },
  {
   "cell_type": "code",
   "execution_count": null,
   "metadata": {},
   "outputs": [],
   "source": []
  }
 ],
 "metadata": {
  "kernelspec": {
   "display_name": "Python 3 (ipykernel)",
   "language": "python",
   "name": "python3"
  },
  "language_info": {
   "codemirror_mode": {
    "name": "ipython",
    "version": 3
   },
   "file_extension": ".py",
   "mimetype": "text/x-python",
   "name": "python",
   "nbconvert_exporter": "python",
   "pygments_lexer": "ipython3",
   "version": "3.10.16"
  }
 },
 "nbformat": 4,
 "nbformat_minor": 4
}
